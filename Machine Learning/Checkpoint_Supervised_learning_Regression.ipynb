{
 "cells": [
  {
   "cell_type": "markdown",
   "id": "3518a10e",
   "metadata": {},
   "source": [
    "In this checkpoint, you are going to work on the '5G-Energy consumption' dataset that was provided by the international telecommunication union (ITU) in 2023 as part of a global challenge or competition for data scientists all over the world to solve the 5G energy consumption modelling using machine learning techniques.\n",
    "\n",
    "The competition is taking place from 2023-07-05 to 2023-09-30. Fore more information click here.\n",
    "\n",
    "Checkpoint problematic : Network operational expenditure (OPEX) already accounts for around 25 percent of the total telecom operator’s cost, and 90 percent of it is spent on large energy bills. More than 70 percent of this energy is estimated to be consumed by the radio access network (RAN), particularly by the base stations (BSs). Thus, the objective is to build and train a ML model to estimate the energy consumed by different 5G base stations taking into consideration the impact of various engineering configurations, traffic conditions, and energy-saving methods.\n",
    "\n",
    "Dataset description : This dataset is derived from the original copy and simplified for learning purposes. It includes cell-level traffic statistics of 4G/5G sites collected on different days.\n",
    "- Import you data and perform basic data exploration phase\n",
    "\n",
    "    Display general information about the dataset\n",
    "    Create a pandas profiling reports to gain insights into the dataset\n",
    "    Handle Missing and corrupted values\n",
    "    Remove duplicates, if they exist\n",
    "    Handle outliers, if they exist\n",
    "    Encode categorical features\n",
    "- Select your target variable and the features\n",
    "- Split your dataset to training and test sets\n",
    "- Based on your data exploration phase select a ML regression algorithm and train it on the training set\n",
    "- Assess your model performance on the test set using relevant evaluation metrics\n",
    "- Discuss with your cohort alternative ways to improve your model performance\n"
   ]
  },
  {
   "cell_type": "markdown",
   "id": "04033365",
   "metadata": {},
   "source": [
    "# Problem Statement\n",
    "- The objective is to build and train a ML model to estimate the energy consumed by different 5G base stations taking into consideration the impact of various engineering configurations,traffic conditions,and energy-saving methods "
   ]
  },
  {
   "cell_type": "markdown",
   "id": "cc581a62",
   "metadata": {},
   "source": [
    "1. Data Exploration and Preprocessing:\n",
    "\n",
    "a. Import Data and Basic Exploration:"
   ]
  },
  {
   "cell_type": "code",
   "execution_count": 1,
   "id": "9c142ad6",
   "metadata": {},
   "outputs": [],
   "source": [
    "## import libraries\n",
    "import pandas as pd\n",
    "import numpy as np\n",
    "\n",
    "# for visuals\n",
    "import seaborn as sns\n",
    "import matplotlib.pyplot as  plt\n",
    "\n",
    "%matplotlib inline\n",
    "import warnings \n",
    "warnings.filterwarnings('ignore')\n",
    "plt.style.use('ggplot')"
   ]
  },
  {
   "cell_type": "code",
   "execution_count": 2,
   "id": "ede251e7",
   "metadata": {},
   "outputs": [],
   "source": [
    "# Load the dataset\n",
    "\n",
    "df=pd.read_csv('5G_energy_consumption_dataset.csv')"
   ]
  },
  {
   "cell_type": "code",
   "execution_count": 3,
   "id": "bdf5eef3",
   "metadata": {},
   "outputs": [
    {
     "data": {
      "text/html": [
       "<div>\n",
       "<style scoped>\n",
       "    .dataframe tbody tr th:only-of-type {\n",
       "        vertical-align: middle;\n",
       "    }\n",
       "\n",
       "    .dataframe tbody tr th {\n",
       "        vertical-align: top;\n",
       "    }\n",
       "\n",
       "    .dataframe thead th {\n",
       "        text-align: right;\n",
       "    }\n",
       "</style>\n",
       "<table border=\"1\" class=\"dataframe\">\n",
       "  <thead>\n",
       "    <tr style=\"text-align: right;\">\n",
       "      <th></th>\n",
       "      <th>Energy</th>\n",
       "      <th>load</th>\n",
       "      <th>ESMODE</th>\n",
       "      <th>TXpower</th>\n",
       "    </tr>\n",
       "  </thead>\n",
       "  <tbody>\n",
       "    <tr>\n",
       "      <th>count</th>\n",
       "      <td>92629</td>\n",
       "      <td>92629</td>\n",
       "      <td>92629</td>\n",
       "      <td>92629</td>\n",
       "    </tr>\n",
       "    <tr>\n",
       "      <th>mean</th>\n",
       "      <td>28</td>\n",
       "      <td>0</td>\n",
       "      <td>0</td>\n",
       "      <td>6</td>\n",
       "    </tr>\n",
       "    <tr>\n",
       "      <th>std</th>\n",
       "      <td>13</td>\n",
       "      <td>0</td>\n",
       "      <td>0</td>\n",
       "      <td>0</td>\n",
       "    </tr>\n",
       "    <tr>\n",
       "      <th>min</th>\n",
       "      <td>0</td>\n",
       "      <td>0</td>\n",
       "      <td>0</td>\n",
       "      <td>5</td>\n",
       "    </tr>\n",
       "    <tr>\n",
       "      <th>25%</th>\n",
       "      <td>18</td>\n",
       "      <td>0</td>\n",
       "      <td>0</td>\n",
       "      <td>6</td>\n",
       "    </tr>\n",
       "    <tr>\n",
       "      <th>50%</th>\n",
       "      <td>24</td>\n",
       "      <td>0</td>\n",
       "      <td>0</td>\n",
       "      <td>6</td>\n",
       "    </tr>\n",
       "    <tr>\n",
       "      <th>75%</th>\n",
       "      <td>35</td>\n",
       "      <td>0</td>\n",
       "      <td>0</td>\n",
       "      <td>6</td>\n",
       "    </tr>\n",
       "    <tr>\n",
       "      <th>max</th>\n",
       "      <td>100</td>\n",
       "      <td>0</td>\n",
       "      <td>4</td>\n",
       "      <td>8</td>\n",
       "    </tr>\n",
       "  </tbody>\n",
       "</table>\n",
       "</div>"
      ],
      "text/plain": [
       "       Energy   load  ESMODE  TXpower\n",
       "count   92629  92629   92629    92629\n",
       "mean       28      0       0        6\n",
       "std        13      0       0        0\n",
       "min         0      0       0        5\n",
       "25%        18      0       0        6\n",
       "50%        24      0       0        6\n",
       "75%        35      0       0        6\n",
       "max       100      0       4        8"
      ]
     },
     "execution_count": 3,
     "metadata": {},
     "output_type": "execute_result"
    }
   ],
   "source": [
    "# summary statistics of the data\n",
    "df.describe().astype('int')"
   ]
  },
  {
   "cell_type": "markdown",
   "id": "4e282c77",
   "metadata": {},
   "source": [
    "The average energy level is 28, accompanied by a standard deviation of 13, indicating moderate variability. However, the median load, standing at 24, reveals a positively skewed distribution, with a notable concentration below the mean.\n",
    "\n",
    "In terms of TXpower (Transmit Power), the mean transmit power is 6, showing minimal variability with a standard deviation of 0. Transmit power consistently falls within the range of 5 to 8 across observations, suggesting stable power settings throughout the dataset.\n",
    "\n",
    "Regarding ESMODE (Energy Saving Mode), all recorded values are 0, indicating that the system predominantly operates in a standard mode without energy-saving features.\n",
    "\n",
    "\n",
    "\n",
    "\n",
    "\n"
   ]
  },
  {
   "cell_type": "code",
   "execution_count": 4,
   "id": "b0786579",
   "metadata": {},
   "outputs": [
    {
     "name": "stdout",
     "output_type": "stream",
     "text": [
      "<class 'pandas.core.frame.DataFrame'>\n",
      "RangeIndex: 92629 entries, 0 to 92628\n",
      "Data columns (total 6 columns):\n",
      " #   Column   Non-Null Count  Dtype  \n",
      "---  ------   --------------  -----  \n",
      " 0   Time     92629 non-null  object \n",
      " 1   BS       92629 non-null  object \n",
      " 2   Energy   92629 non-null  float64\n",
      " 3   load     92629 non-null  float64\n",
      " 4   ESMODE   92629 non-null  float64\n",
      " 5   TXpower  92629 non-null  float64\n",
      "dtypes: float64(4), object(2)\n",
      "memory usage: 4.2+ MB\n",
      "None\n"
     ]
    }
   ],
   "source": [
    "# display general information about the dataset\n",
    "print(df.info())"
   ]
  },
  {
   "cell_type": "code",
   "execution_count": 5,
   "id": "d424d5fc",
   "metadata": {},
   "outputs": [
    {
     "name": "stdout",
     "output_type": "stream",
     "text": [
      "              Time   BS     Energy      load  ESMODE   TXpower\n",
      "0  20230101 010000  B_0  64.275037  0.487936     0.0  7.101719\n",
      "1  20230101 020000  B_0  55.904335  0.344468     0.0  7.101719\n",
      "2  20230101 030000  B_0  57.698057  0.193766     0.0  7.101719\n",
      "3  20230101 040000  B_0  55.156951  0.222383     0.0  7.101719\n",
      "4  20230101 050000  B_0  56.053812  0.175436     0.0  7.101719\n"
     ]
    }
   ],
   "source": [
    "# Display first few rows of the dataset\n",
    "print(df.head())"
   ]
  },
  {
   "cell_type": "markdown",
   "id": "724193d8",
   "metadata": {},
   "source": [
    "b. Pandas profiling Report:"
   ]
  },
  {
   "cell_type": "code",
   "execution_count": 6,
   "id": "3224cf57",
   "metadata": {},
   "outputs": [
    {
     "data": {
      "text/plain": [
       "(92629, 6)"
      ]
     },
     "execution_count": 6,
     "metadata": {},
     "output_type": "execute_result"
    }
   ],
   "source": [
    "df.shape"
   ]
  },
  {
   "cell_type": "code",
   "execution_count": 8,
   "id": "99c742bf",
   "metadata": {},
   "outputs": [],
   "source": [
    "#Import pandas profiling library\n",
    "from pandas_profiling import ProfileReport"
   ]
  },
  {
   "cell_type": "code",
   "execution_count": 9,
   "id": "5e25f537",
   "metadata": {
    "scrolled": true
   },
   "outputs": [
    {
     "data": {
      "application/vnd.jupyter.widget-view+json": {
       "model_id": "9e5dedec5bea477e8a9157a8b1e26b34",
       "version_major": 2,
       "version_minor": 0
      },
      "text/plain": [
       "Summarize dataset:   0%|          | 0/5 [00:00<?, ?it/s]"
      ]
     },
     "metadata": {},
     "output_type": "display_data"
    },
    {
     "data": {
      "application/vnd.jupyter.widget-view+json": {
       "model_id": "0c01ea33d6384ababca94a0c85b0cad0",
       "version_major": 2,
       "version_minor": 0
      },
      "text/plain": [
       "Generate report structure:   0%|          | 0/1 [00:00<?, ?it/s]"
      ]
     },
     "metadata": {},
     "output_type": "display_data"
    },
    {
     "data": {
      "application/vnd.jupyter.widget-view+json": {
       "model_id": "79cbd3e7d4e3474880b8d0ce2eda8e23",
       "version_major": 2,
       "version_minor": 0
      },
      "text/plain": [
       "Render widgets:   0%|          | 0/1 [00:00<?, ?it/s]"
      ]
     },
     "metadata": {},
     "output_type": "display_data"
    }
   ],
   "source": [
    "# Generate pandas profiling report\n",
    "profile=ProfileReport(df)\n",
    "profile.to_widgets()"
   ]
  },
  {
   "cell_type": "markdown",
   "id": "21d90765",
   "metadata": {},
   "source": [
    "c. Handling Missing and Corrupted Values:"
   ]
  },
  {
   "cell_type": "code",
   "execution_count": 10,
   "id": "5a5314b0",
   "metadata": {},
   "outputs": [
    {
     "name": "stdout",
     "output_type": "stream",
     "text": [
      "Time       0\n",
      "BS         0\n",
      "Energy     0\n",
      "load       0\n",
      "ESMODE     0\n",
      "TXpower    0\n",
      "dtype: int64\n"
     ]
    }
   ],
   "source": [
    "# Check for missing values\n",
    "print(df.isnull().sum())"
   ]
  },
  {
   "cell_type": "markdown",
   "id": "159ea63e",
   "metadata": {},
   "source": [
    "d. Removing Duplicates:"
   ]
  },
  {
   "cell_type": "markdown",
   "id": "ebe1db6a",
   "metadata": {},
   "source": [
    "# Data Preprocessing"
   ]
  },
  {
   "cell_type": "code",
   "execution_count": 11,
   "id": "2d48cb25",
   "metadata": {},
   "outputs": [
    {
     "data": {
      "text/plain": [
       "['Time', 'BS', 'Energy', 'load', 'ESMODE', 'TXpower']"
      ]
     },
     "execution_count": 11,
     "metadata": {},
     "output_type": "execute_result"
    }
   ],
   "source": [
    "df.columns.tolist()"
   ]
  },
  {
   "cell_type": "code",
   "execution_count": 12,
   "id": "23634cba",
   "metadata": {
    "scrolled": true
   },
   "outputs": [
    {
     "name": "stdout",
     "output_type": "stream",
     "text": [
      "['Energy', 'load', 'ESMODE', 'TXpower']\n",
      "17.937220    1014\n",
      "17.787743     921\n",
      "18.236173     898\n",
      "18.385650     895\n",
      "18.086697     889\n",
      "             ... \n",
      "98.355755       1\n",
      "85.650224       1\n",
      "97.010463       1\n",
      "96.711510       1\n",
      "96.412556       1\n",
      "Name: Energy, Length: 612, dtype: int64\n",
      "0.008260    71\n",
      "0.008240    71\n",
      "0.045923    70\n",
      "0.008270    55\n",
      "0.008300    49\n",
      "            ..\n",
      "0.569074     1\n",
      "0.610043     1\n",
      "0.285777     1\n",
      "0.467277     1\n",
      "0.058077     1\n",
      "Name: load, Length: 58563, dtype: int64\n",
      "0.000000    87475\n",
      "2.000000     1299\n",
      "1.999722      226\n",
      "0.002500      134\n",
      "0.000556      122\n",
      "            ...  \n",
      "0.378611        1\n",
      "1.805833        1\n",
      "1.467778        1\n",
      "0.317500        1\n",
      "0.983333        1\n",
      "Name: ESMODE, Length: 1713, dtype: int64\n",
      "6.875934    40444\n",
      "6.427504    26693\n",
      "7.100897    13277\n",
      "7.101719     2523\n",
      "6.876682     1445\n",
      "6.128550      986\n",
      "7.325859      879\n",
      "5.979073      781\n",
      "6.651719      673\n",
      "8.034529      342\n",
      "6.726457      336\n",
      "6.576981      332\n",
      "5.680120      329\n",
      "6.727205      325\n",
      "6.502990      324\n",
      "6.532138      231\n",
      "5.949178      230\n",
      "6.412556      229\n",
      "6.951420      229\n",
      "7.099776      221\n",
      "8.375336      210\n",
      "5.381166      205\n",
      "6.980568      117\n",
      "6.397608      112\n",
      "7.026158      111\n",
      "7.108072      111\n",
      "6.681614      110\n",
      "7.110090      110\n",
      "6.353513      109\n",
      "6.594544      108\n",
      "7.106054      106\n",
      "6.502990      103\n",
      "6.728027      101\n",
      "8.046487       62\n",
      "7.321525       23\n",
      "6.372795       22\n",
      "7.316293       20\n",
      "7.879895       20\n",
      "7.319432       20\n",
      "7.318386       19\n",
      "8.036173        1\n",
      "Name: TXpower, dtype: int64\n"
     ]
    }
   ],
   "source": [
    "# select numerical variables\n",
    "num_vars=df.select_dtypes(include=['float','int64']).columns.tolist()\n",
    "print(num_vars)\n",
    "\n",
    "# value counts for numerical variables\n",
    "for column in num_vars:\n",
    "    print(df[column].value_counts())"
   ]
  },
  {
   "cell_type": "code",
   "execution_count": 13,
   "id": "95a9d42f",
   "metadata": {},
   "outputs": [
    {
     "data": {
      "image/png": "[encoded data removed]",
      "text/plain": [
       "<Figure size 1200x800 with 4 Axes>"
      ]
     },
     "metadata": {},
     "output_type": "display_data"
    }
   ],
   "source": [
    "# showing the distribution of numeric columns\n",
    "df.hist(figsize=(12,8));"
   ]
  },
  {
   "cell_type": "code",
   "execution_count": null,
   "id": "a1f4709f",
   "metadata": {},
   "outputs": [],
   "source": []
  },
  {
   "cell_type": "code",
   "execution_count": null,
   "id": "bdaaea37",
   "metadata": {},
   "outputs": [],
   "source": []
  },
  {
   "cell_type": "code",
   "execution_count": 14,
   "id": "04b41a4a",
   "metadata": {},
   "outputs": [
    {
     "data": {
      "text/plain": [
       "0"
      ]
     },
     "execution_count": 14,
     "metadata": {},
     "output_type": "execute_result"
    }
   ],
   "source": [
    "# check for duplicates\n",
    "df.duplicated().sum()"
   ]
  },
  {
   "cell_type": "markdown",
   "id": "baae162d",
   "metadata": {},
   "source": [
    "e.handling outliers"
   ]
  },
  {
   "cell_type": "code",
   "execution_count": 15,
   "id": "d977dd47",
   "metadata": {
    "scrolled": true
   },
   "outputs": [
    {
     "name": "stdout",
     "output_type": "stream",
     "text": [
      "Energy     2192\n",
      "load       2974\n",
      "ESMODE     5154\n",
      "TXpower    1169\n",
      "dtype: int64\n"
     ]
    },
    {
     "data": {
      "image/png": "[encoded data removed]",
      "text/plain": [
       "<Figure size 1200x600 with 1 Axes>"
      ]
     },
     "metadata": {},
     "output_type": "display_data"
    }
   ],
   "source": [
    "# Extract the numerical columns from the dataset\n",
    "num_vars = df.select_dtypes(include=['int64', 'float64'])\n",
    "# Calculate the number of outliers for each numerical variable\n",
    "outliers_count = ((num_vars < num_vars.quantile(0.25) - 1.5 * (num_vars.quantile(0.75) - num_vars.quantile(0.25))) |\n",
    "                  (num_vars > num_vars.quantile(0.75) + 1.5 * (num_vars.quantile(0.75) - num_vars.quantile(0.25))))\n",
    "outliers_count = outliers_count.sum()\n",
    "\n",
    "# Display the number of outliers in a table\n",
    "print(outliers_count)\n",
    "\n",
    "# Create a boxplot to show the distribution of each numerical variable\n",
    "plt.figure(figsize=(12, 6))\n",
    "sns.boxplot(data=num_vars, palette='viridis')\n",
    "plt.title('Distribution of Numerical Variables')\n",
    "plt.xticks(rotation=45)\n",
    "plt.show()\n"
   ]
  },
  {
   "cell_type": "code",
   "execution_count": 16,
   "id": "cd3e6481",
   "metadata": {
    "scrolled": true
   },
   "outputs": [
    {
     "data": {
      "image/png": "[encoded data removed]",
      "text/plain": [
       "<Figure size 1200x600 with 1 Axes>"
      ]
     },
     "metadata": {},
     "output_type": "display_data"
    }
   ],
   "source": [
    "# Calculate the median of each numerical variable\n",
    "medians = num_vars.median()\n",
    "\n",
    "# Replace outliers with the median of each variable\n",
    "for column in num_vars.columns:\n",
    "    q1 = num_vars[column].quantile(0.25)\n",
    "    q3 = num_vars[column].quantile(0.75)\n",
    "    iqr = q3 - q1\n",
    "    lower_bound = q1 - 1.5 * iqr\n",
    "    upper_bound = q3 + 1.5 * iqr\n",
    "    num_vars[column] = num_vars[column].apply(lambda x: medians[column] if x < lower_bound or x > upper_bound else x)\n",
    "\n",
    "# Create a boxplot to show the distribution of each numerical variable after handling outliers\n",
    "plt.figure(figsize=(12, 6))\n",
    "sns.boxplot(data=num_vars, palette='viridis')\n",
    "plt.title('Distribution of Numerical Variables (Outliers Handled)')\n",
    "plt.xticks(rotation=45)\n",
    "plt.show()"
   ]
  },
  {
   "cell_type": "markdown",
   "id": "73a7cf05",
   "metadata": {},
   "source": [
    "The outliers in the numerical variables has been removed by replacing it with the median of the columns"
   ]
  },
  {
   "cell_type": "code",
   "execution_count": 17,
   "id": "d7b19368",
   "metadata": {},
   "outputs": [
    {
     "data": {
      "text/html": [
       "<div>\n",
       "<style scoped>\n",
       "    .dataframe tbody tr th:only-of-type {\n",
       "        vertical-align: middle;\n",
       "    }\n",
       "\n",
       "    .dataframe tbody tr th {\n",
       "        vertical-align: top;\n",
       "    }\n",
       "\n",
       "    .dataframe thead th {\n",
       "        text-align: right;\n",
       "    }\n",
       "</style>\n",
       "<table border=\"1\" class=\"dataframe\">\n",
       "  <thead>\n",
       "    <tr style=\"text-align: right;\">\n",
       "      <th></th>\n",
       "      <th>Time</th>\n",
       "      <th>BS</th>\n",
       "      <th>Energy</th>\n",
       "      <th>load</th>\n",
       "      <th>ESMODE</th>\n",
       "      <th>TXpower</th>\n",
       "    </tr>\n",
       "  </thead>\n",
       "  <tbody>\n",
       "    <tr>\n",
       "      <th>0</th>\n",
       "      <td>20230101 010000</td>\n",
       "      <td>B_0</td>\n",
       "      <td>64.275037</td>\n",
       "      <td>0.487936</td>\n",
       "      <td>0.0</td>\n",
       "      <td>7.101719</td>\n",
       "    </tr>\n",
       "    <tr>\n",
       "      <th>1</th>\n",
       "      <td>20230101 020000</td>\n",
       "      <td>B_0</td>\n",
       "      <td>55.904335</td>\n",
       "      <td>0.344468</td>\n",
       "      <td>0.0</td>\n",
       "      <td>7.101719</td>\n",
       "    </tr>\n",
       "    <tr>\n",
       "      <th>2</th>\n",
       "      <td>20230101 030000</td>\n",
       "      <td>B_0</td>\n",
       "      <td>57.698057</td>\n",
       "      <td>0.193766</td>\n",
       "      <td>0.0</td>\n",
       "      <td>7.101719</td>\n",
       "    </tr>\n",
       "    <tr>\n",
       "      <th>3</th>\n",
       "      <td>20230101 040000</td>\n",
       "      <td>B_0</td>\n",
       "      <td>55.156951</td>\n",
       "      <td>0.222383</td>\n",
       "      <td>0.0</td>\n",
       "      <td>7.101719</td>\n",
       "    </tr>\n",
       "    <tr>\n",
       "      <th>4</th>\n",
       "      <td>20230101 050000</td>\n",
       "      <td>B_0</td>\n",
       "      <td>56.053812</td>\n",
       "      <td>0.175436</td>\n",
       "      <td>0.0</td>\n",
       "      <td>7.101719</td>\n",
       "    </tr>\n",
       "    <tr>\n",
       "      <th>...</th>\n",
       "      <td>...</td>\n",
       "      <td>...</td>\n",
       "      <td>...</td>\n",
       "      <td>...</td>\n",
       "      <td>...</td>\n",
       "      <td>...</td>\n",
       "    </tr>\n",
       "    <tr>\n",
       "      <th>92624</th>\n",
       "      <td>20230102 170000</td>\n",
       "      <td>B_1018</td>\n",
       "      <td>14.648729</td>\n",
       "      <td>0.087538</td>\n",
       "      <td>0.0</td>\n",
       "      <td>7.325859</td>\n",
       "    </tr>\n",
       "    <tr>\n",
       "      <th>92625</th>\n",
       "      <td>20230102 180000</td>\n",
       "      <td>B_1018</td>\n",
       "      <td>14.648729</td>\n",
       "      <td>0.082635</td>\n",
       "      <td>0.0</td>\n",
       "      <td>7.325859</td>\n",
       "    </tr>\n",
       "    <tr>\n",
       "      <th>92626</th>\n",
       "      <td>20230102 210000</td>\n",
       "      <td>B_1018</td>\n",
       "      <td>13.452915</td>\n",
       "      <td>0.055538</td>\n",
       "      <td>0.0</td>\n",
       "      <td>7.325859</td>\n",
       "    </tr>\n",
       "    <tr>\n",
       "      <th>92627</th>\n",
       "      <td>20230102 220000</td>\n",
       "      <td>B_1018</td>\n",
       "      <td>13.602392</td>\n",
       "      <td>0.058077</td>\n",
       "      <td>0.0</td>\n",
       "      <td>7.325859</td>\n",
       "    </tr>\n",
       "    <tr>\n",
       "      <th>92628</th>\n",
       "      <td>20230102 230000</td>\n",
       "      <td>B_1018</td>\n",
       "      <td>13.303438</td>\n",
       "      <td>0.048173</td>\n",
       "      <td>0.0</td>\n",
       "      <td>7.325859</td>\n",
       "    </tr>\n",
       "  </tbody>\n",
       "</table>\n",
       "<p>92629 rows × 6 columns</p>\n",
       "</div>"
      ],
      "text/plain": [
       "                  Time      BS     Energy      load  ESMODE   TXpower\n",
       "0      20230101 010000     B_0  64.275037  0.487936     0.0  7.101719\n",
       "1      20230101 020000     B_0  55.904335  0.344468     0.0  7.101719\n",
       "2      20230101 030000     B_0  57.698057  0.193766     0.0  7.101719\n",
       "3      20230101 040000     B_0  55.156951  0.222383     0.0  7.101719\n",
       "4      20230101 050000     B_0  56.053812  0.175436     0.0  7.101719\n",
       "...                ...     ...        ...       ...     ...       ...\n",
       "92624  20230102 170000  B_1018  14.648729  0.087538     0.0  7.325859\n",
       "92625  20230102 180000  B_1018  14.648729  0.082635     0.0  7.325859\n",
       "92626  20230102 210000  B_1018  13.452915  0.055538     0.0  7.325859\n",
       "92627  20230102 220000  B_1018  13.602392  0.058077     0.0  7.325859\n",
       "92628  20230102 230000  B_1018  13.303438  0.048173     0.0  7.325859\n",
       "\n",
       "[92629 rows x 6 columns]"
      ]
     },
     "execution_count": 17,
     "metadata": {},
     "output_type": "execute_result"
    }
   ],
   "source": [
    "df"
   ]
  },
  {
   "cell_type": "code",
   "execution_count": 18,
   "id": "99fed080",
   "metadata": {},
   "outputs": [
    {
     "data": {
      "text/html": [
       "<div>\n",
       "<style scoped>\n",
       "    .dataframe tbody tr th:only-of-type {\n",
       "        vertical-align: middle;\n",
       "    }\n",
       "\n",
       "    .dataframe tbody tr th {\n",
       "        vertical-align: top;\n",
       "    }\n",
       "\n",
       "    .dataframe thead th {\n",
       "        text-align: right;\n",
       "    }\n",
       "</style>\n",
       "<table border=\"1\" class=\"dataframe\">\n",
       "  <thead>\n",
       "    <tr style=\"text-align: right;\">\n",
       "      <th></th>\n",
       "      <th>BS</th>\n",
       "      <th>Energy</th>\n",
       "      <th>load</th>\n",
       "      <th>ESMODE</th>\n",
       "      <th>TXpower</th>\n",
       "    </tr>\n",
       "  </thead>\n",
       "  <tbody>\n",
       "    <tr>\n",
       "      <th>0</th>\n",
       "      <td>B_0</td>\n",
       "      <td>64.275037</td>\n",
       "      <td>0.487936</td>\n",
       "      <td>0.0</td>\n",
       "      <td>7.101719</td>\n",
       "    </tr>\n",
       "    <tr>\n",
       "      <th>1</th>\n",
       "      <td>B_0</td>\n",
       "      <td>55.904335</td>\n",
       "      <td>0.344468</td>\n",
       "      <td>0.0</td>\n",
       "      <td>7.101719</td>\n",
       "    </tr>\n",
       "    <tr>\n",
       "      <th>2</th>\n",
       "      <td>B_0</td>\n",
       "      <td>57.698057</td>\n",
       "      <td>0.193766</td>\n",
       "      <td>0.0</td>\n",
       "      <td>7.101719</td>\n",
       "    </tr>\n",
       "    <tr>\n",
       "      <th>3</th>\n",
       "      <td>B_0</td>\n",
       "      <td>55.156951</td>\n",
       "      <td>0.222383</td>\n",
       "      <td>0.0</td>\n",
       "      <td>7.101719</td>\n",
       "    </tr>\n",
       "    <tr>\n",
       "      <th>4</th>\n",
       "      <td>B_0</td>\n",
       "      <td>56.053812</td>\n",
       "      <td>0.175436</td>\n",
       "      <td>0.0</td>\n",
       "      <td>7.101719</td>\n",
       "    </tr>\n",
       "    <tr>\n",
       "      <th>...</th>\n",
       "      <td>...</td>\n",
       "      <td>...</td>\n",
       "      <td>...</td>\n",
       "      <td>...</td>\n",
       "      <td>...</td>\n",
       "    </tr>\n",
       "    <tr>\n",
       "      <th>92624</th>\n",
       "      <td>B_1018</td>\n",
       "      <td>14.648729</td>\n",
       "      <td>0.087538</td>\n",
       "      <td>0.0</td>\n",
       "      <td>7.325859</td>\n",
       "    </tr>\n",
       "    <tr>\n",
       "      <th>92625</th>\n",
       "      <td>B_1018</td>\n",
       "      <td>14.648729</td>\n",
       "      <td>0.082635</td>\n",
       "      <td>0.0</td>\n",
       "      <td>7.325859</td>\n",
       "    </tr>\n",
       "    <tr>\n",
       "      <th>92626</th>\n",
       "      <td>B_1018</td>\n",
       "      <td>13.452915</td>\n",
       "      <td>0.055538</td>\n",
       "      <td>0.0</td>\n",
       "      <td>7.325859</td>\n",
       "    </tr>\n",
       "    <tr>\n",
       "      <th>92627</th>\n",
       "      <td>B_1018</td>\n",
       "      <td>13.602392</td>\n",
       "      <td>0.058077</td>\n",
       "      <td>0.0</td>\n",
       "      <td>7.325859</td>\n",
       "    </tr>\n",
       "    <tr>\n",
       "      <th>92628</th>\n",
       "      <td>B_1018</td>\n",
       "      <td>13.303438</td>\n",
       "      <td>0.048173</td>\n",
       "      <td>0.0</td>\n",
       "      <td>7.325859</td>\n",
       "    </tr>\n",
       "  </tbody>\n",
       "</table>\n",
       "<p>92629 rows × 5 columns</p>\n",
       "</div>"
      ],
      "text/plain": [
       "           BS     Energy      load  ESMODE   TXpower\n",
       "0         B_0  64.275037  0.487936     0.0  7.101719\n",
       "1         B_0  55.904335  0.344468     0.0  7.101719\n",
       "2         B_0  57.698057  0.193766     0.0  7.101719\n",
       "3         B_0  55.156951  0.222383     0.0  7.101719\n",
       "4         B_0  56.053812  0.175436     0.0  7.101719\n",
       "...       ...        ...       ...     ...       ...\n",
       "92624  B_1018  14.648729  0.087538     0.0  7.325859\n",
       "92625  B_1018  14.648729  0.082635     0.0  7.325859\n",
       "92626  B_1018  13.452915  0.055538     0.0  7.325859\n",
       "92627  B_1018  13.602392  0.058077     0.0  7.325859\n",
       "92628  B_1018  13.303438  0.048173     0.0  7.325859\n",
       "\n",
       "[92629 rows x 5 columns]"
      ]
     },
     "execution_count": 18,
     "metadata": {},
     "output_type": "execute_result"
    }
   ],
   "source": [
    "df.drop(columns='Time',inplace=True)\n",
    "df"
   ]
  },
  {
   "cell_type": "markdown",
   "id": "691d3b3b",
   "metadata": {},
   "source": [
    "f. Encoding Categorical Features:\n",
    "    \n",
    "    "
   ]
  },
  {
   "cell_type": "code",
   "execution_count": null,
   "id": "5041f62d",
   "metadata": {},
   "outputs": [],
   "source": []
  },
  {
   "cell_type": "code",
   "execution_count": 19,
   "id": "a0c8c4ac",
   "metadata": {},
   "outputs": [
    {
     "name": "stdout",
     "output_type": "stream",
     "text": [
      "   BS     Energy      load  ESMODE   TXpower\n",
      "0   0  64.275037  0.487936     0.0  7.101719\n",
      "1   0  55.904335  0.344468     0.0  7.101719\n",
      "2   0  57.698057  0.193766     0.0  7.101719\n",
      "3   0  55.156951  0.222383     0.0  7.101719\n",
      "4   0  56.053812  0.175436     0.0  7.101719\n"
     ]
    }
   ],
   "source": [
    "from sklearn.preprocessing import LabelEncoder\n",
    "# Assuming 'df' is your DataFrame\n",
    "columns_to_encode = [\"BS\"]\n",
    "\n",
    "# Create a label encoder instance\n",
    "label_encoder = LabelEncoder()\n",
    "\n",
    "# Apply label encoding to each categorical column\n",
    "for column in columns_to_encode:\n",
    "    df[column] = label_encoder.fit_transform(df[column])\n",
    "\n",
    "# Display the updated DataFrame\n",
    "print(df.head())"
   ]
  },
  {
   "cell_type": "markdown",
   "id": "ef644585",
   "metadata": {},
   "source": [
    "## Model Selection \n",
    "- It is a regression task. In this task we will be using the following algorithmns\n",
    "  - Linear regression\n",
    "  - Decision tree regression\n",
    "  - Random forest regression\n",
    "  - Lasso Regression"
   ]
  },
  {
   "cell_type": "markdown",
   "id": "ab8b3736",
   "metadata": {},
   "source": [
    "### Feature Selections\n",
    "- The target is what you want to predict. In this case, we want to predict Energy consumed\n",
    "- The independent variables after dropping the target is our X, which is what we are going to train our model.\n"
   ]
  },
  {
   "cell_type": "markdown",
   "id": "52bf39fb",
   "metadata": {},
   "source": [
    "# 3. Perform Feature Selection:"
   ]
  },
  {
   "cell_type": "code",
   "execution_count": 20,
   "id": "d66a4d9e",
   "metadata": {},
   "outputs": [],
   "source": [
    "from sklearn.feature_selection import SelectKBest\n",
    "from sklearn.feature_selection import f_regression"
   ]
  },
  {
   "cell_type": "code",
   "execution_count": 21,
   "id": "b46fe0d3",
   "metadata": {},
   "outputs": [
    {
     "data": {
      "text/plain": [
       "0    64.275037\n",
       "1    55.904335\n",
       "2    57.698057\n",
       "3    55.156951\n",
       "4    56.053812\n",
       "Name: Energy, dtype: float64"
      ]
     },
     "execution_count": 21,
     "metadata": {},
     "output_type": "execute_result"
    }
   ],
   "source": [
    "# Perform feature selection using SelectKBest and f_regression\n",
    "y=df['Energy']\n",
    "\n",
    "y.head()\n",
    "\n"
   ]
  },
  {
   "cell_type": "code",
   "execution_count": 22,
   "id": "d1e9e5a9",
   "metadata": {},
   "outputs": [
    {
     "data": {
      "text/html": [
       "<div>\n",
       "<style scoped>\n",
       "    .dataframe tbody tr th:only-of-type {\n",
       "        vertical-align: middle;\n",
       "    }\n",
       "\n",
       "    .dataframe tbody tr th {\n",
       "        vertical-align: top;\n",
       "    }\n",
       "\n",
       "    .dataframe thead th {\n",
       "        text-align: right;\n",
       "    }\n",
       "</style>\n",
       "<table border=\"1\" class=\"dataframe\">\n",
       "  <thead>\n",
       "    <tr style=\"text-align: right;\">\n",
       "      <th></th>\n",
       "      <th>BS</th>\n",
       "      <th>load</th>\n",
       "      <th>ESMODE</th>\n",
       "      <th>TXpower</th>\n",
       "    </tr>\n",
       "  </thead>\n",
       "  <tbody>\n",
       "    <tr>\n",
       "      <th>0</th>\n",
       "      <td>0</td>\n",
       "      <td>0.487936</td>\n",
       "      <td>0.0</td>\n",
       "      <td>7.101719</td>\n",
       "    </tr>\n",
       "    <tr>\n",
       "      <th>1</th>\n",
       "      <td>0</td>\n",
       "      <td>0.344468</td>\n",
       "      <td>0.0</td>\n",
       "      <td>7.101719</td>\n",
       "    </tr>\n",
       "    <tr>\n",
       "      <th>2</th>\n",
       "      <td>0</td>\n",
       "      <td>0.193766</td>\n",
       "      <td>0.0</td>\n",
       "      <td>7.101719</td>\n",
       "    </tr>\n",
       "    <tr>\n",
       "      <th>3</th>\n",
       "      <td>0</td>\n",
       "      <td>0.222383</td>\n",
       "      <td>0.0</td>\n",
       "      <td>7.101719</td>\n",
       "    </tr>\n",
       "    <tr>\n",
       "      <th>4</th>\n",
       "      <td>0</td>\n",
       "      <td>0.175436</td>\n",
       "      <td>0.0</td>\n",
       "      <td>7.101719</td>\n",
       "    </tr>\n",
       "  </tbody>\n",
       "</table>\n",
       "</div>"
      ],
      "text/plain": [
       "   BS      load  ESMODE   TXpower\n",
       "0   0  0.487936     0.0  7.101719\n",
       "1   0  0.344468     0.0  7.101719\n",
       "2   0  0.193766     0.0  7.101719\n",
       "3   0  0.222383     0.0  7.101719\n",
       "4   0  0.175436     0.0  7.101719"
      ]
     },
     "execution_count": 22,
     "metadata": {},
     "output_type": "execute_result"
    }
   ],
   "source": [
    "# select the independent variables\n",
    "X=df.drop('Energy',axis=1)\n",
    "X.head()"
   ]
  },
  {
   "cell_type": "markdown",
   "id": "95f03dcc",
   "metadata": {},
   "source": [
    "# Splitting Dataset into Training and Test Sets:\n",
    "We will split the dataset into training and testing set. Typically, we will allocate a certain percentage of 70-30 for training and testing, respectively. This will be done using the train_test_split function from scikit-learn."
   ]
  },
  {
   "cell_type": "code",
   "execution_count": 23,
   "id": "0a0991ea",
   "metadata": {},
   "outputs": [
    {
     "name": "stdout",
     "output_type": "stream",
     "text": [
      "\n",
      "         BS      load  ESMODE   TXpower\n",
      "47956  378  0.502570     0.0  7.100897\n",
      "91857  885  0.070096     0.0  7.325859\n",
      "\n",
      "         BS      load    ESMODE   TXpower\n",
      "65601  553  0.372528  0.000000  7.100897\n",
      "2220   129  0.013640  1.885278  6.875934\n",
      "\n",
      " 47956    56.950673\n",
      "91857    14.648729\n",
      "Name: Energy, dtype: float64\n",
      "\n",
      " 65601    44.843049\n",
      "2220     20.478326\n",
      "Name: Energy, dtype: float64\n"
     ]
    }
   ],
   "source": [
    "from sklearn.model_selection import train_test_split\n",
    "\n",
    "# Split the dataset into training and test sets\n",
    "X_train, X_test, y_train, y_test = train_test_split(X, y, test_size = 0.3, random_state = 42)\n",
    "\n",
    "print('\\n', X_train.head(2))\n",
    "print('\\n', X_test.head(2))\n",
    "print('\\n', y_train.head(2))\n",
    "print('\\n', y_test.head(2))"
   ]
  },
  {
   "cell_type": "code",
   "execution_count": 24,
   "id": "ee55488e",
   "metadata": {},
   "outputs": [
    {
     "name": "stdout",
     "output_type": "stream",
     "text": [
      "The X_train shape: (64840, 4)\n",
      "The X_test shape: (27789, 4)\n",
      "The y_train shape: (64840,)\n",
      "The y_test shape: (27789,)\n"
     ]
    }
   ],
   "source": [
    "# check the shape of the splitted data\n",
    "print(f'The X_train shape: {X_train.shape}')\n",
    "print(f'The X_test shape: {X_test.shape}')\n",
    "print(f'The y_train shape: {y_train.shape}')\n",
    "print(f'The y_test shape: {y_test.shape}')"
   ]
  },
  {
   "cell_type": "markdown",
   "id": "d85f2198",
   "metadata": {},
   "source": [
    "## Standardization\n",
    "- We will scale the features of the data using MinMax Scaler from scikit-learn."
   ]
  },
  {
   "cell_type": "code",
   "execution_count": 25,
   "id": "82e2cf2a",
   "metadata": {},
   "outputs": [],
   "source": [
    "from sklearn.preprocessing import MinMaxScaler\n",
    "\n",
    "# Create an instance of MinMaxScaler\n",
    "scaler = MinMaxScaler()\n",
    "\n",
    "# Fit and transform the training data\n",
    "X_train_scaled = scaler.fit_transform(X_train)\n",
    "\n",
    "# Transform the validation and test data\n",
    "X_test_scaled = scaler.transform(X_test)\n"
   ]
  },
  {
   "cell_type": "code",
   "execution_count": 26,
   "id": "77443222",
   "metadata": {},
   "outputs": [],
   "source": [
    "# import the necessary libraries for the model building\n",
    "from sklearn.linear_model import LinearRegression, Lasso\n",
    "from sklearn.tree import DecisionTreeRegressor\n",
    "from sklearn.ensemble import RandomForestRegressor\n",
    "\n",
    "# algorithms for the evaluation of model performance\n",
    "from sklearn.metrics import mean_squared_error, r2_score, mean_absolute_error"
   ]
  },
  {
   "cell_type": "markdown",
   "id": "74c60147",
   "metadata": {},
   "source": [
    "## Linear Regression "
   ]
  },
  {
   "cell_type": "code",
   "execution_count": 27,
   "id": "00d8c8ec",
   "metadata": {},
   "outputs": [
    {
     "data": {
      "text/html": [
       "<style>#sk-container-id-1 {color: black;}#sk-container-id-1 pre{padding: 0;}#sk-container-id-1 div.sk-toggleable {background-color: white;}#sk-container-id-1 label.sk-toggleable__label {cursor: pointer;display: block;width: 100%;margin-bottom: 0;padding: 0.3em;box-sizing: border-box;text-align: center;}#sk-container-id-1 label.sk-toggleable__label-arrow:before {content: \"▸\";float: left;margin-right: 0.25em;color: #696969;}#sk-container-id-1 label.sk-toggleable__label-arrow:hover:before {color: black;}#sk-container-id-1 div.sk-estimator:hover label.sk-toggleable__label-arrow:before {color: black;}#sk-container-id-1 div.sk-toggleable__content {max-height: 0;max-width: 0;overflow: hidden;text-align: left;background-color: #f0f8ff;}#sk-container-id-1 div.sk-toggleable__content pre {margin: 0.2em;color: black;border-radius: 0.25em;background-color: #f0f8ff;}#sk-container-id-1 input.sk-toggleable__control:checked~div.sk-toggleable__content {max-height: 200px;max-width: 100%;overflow: auto;}#sk-container-id-1 input.sk-toggleable__control:checked~label.sk-toggleable__label-arrow:before {content: \"▾\";}#sk-container-id-1 div.sk-estimator input.sk-toggleable__control:checked~label.sk-toggleable__label {background-color: #d4ebff;}#sk-container-id-1 div.sk-label input.sk-toggleable__control:checked~label.sk-toggleable__label {background-color: #d4ebff;}#sk-container-id-1 input.sk-hidden--visually {border: 0;clip: rect(1px 1px 1px 1px);clip: rect(1px, 1px, 1px, 1px);height: 1px;margin: -1px;overflow: hidden;padding: 0;position: absolute;width: 1px;}#sk-container-id-1 div.sk-estimator {font-family: monospace;background-color: #f0f8ff;border: 1px dotted black;border-radius: 0.25em;box-sizing: border-box;margin-bottom: 0.5em;}#sk-container-id-1 div.sk-estimator:hover {background-color: #d4ebff;}#sk-container-id-1 div.sk-parallel-item::after {content: \"\";width: 100%;border-bottom: 1px solid gray;flex-grow: 1;}#sk-container-id-1 div.sk-label:hover label.sk-toggleable__label {background-color: #d4ebff;}#sk-container-id-1 div.sk-serial::before {content: \"\";position: absolute;border-left: 1px solid gray;box-sizing: border-box;top: 0;bottom: 0;left: 50%;z-index: 0;}#sk-container-id-1 div.sk-serial {display: flex;flex-direction: column;align-items: center;background-color: white;padding-right: 0.2em;padding-left: 0.2em;position: relative;}#sk-container-id-1 div.sk-item {position: relative;z-index: 1;}#sk-container-id-1 div.sk-parallel {display: flex;align-items: stretch;justify-content: center;background-color: white;position: relative;}#sk-container-id-1 div.sk-item::before, #sk-container-id-1 div.sk-parallel-item::before {content: \"\";position: absolute;border-left: 1px solid gray;box-sizing: border-box;top: 0;bottom: 0;left: 50%;z-index: -1;}#sk-container-id-1 div.sk-parallel-item {display: flex;flex-direction: column;z-index: 1;position: relative;background-color: white;}#sk-container-id-1 div.sk-parallel-item:first-child::after {align-self: flex-end;width: 50%;}#sk-container-id-1 div.sk-parallel-item:last-child::after {align-self: flex-start;width: 50%;}#sk-container-id-1 div.sk-parallel-item:only-child::after {width: 0;}#sk-container-id-1 div.sk-dashed-wrapped {border: 1px dashed gray;margin: 0 0.4em 0.5em 0.4em;box-sizing: border-box;padding-bottom: 0.4em;background-color: white;}#sk-container-id-1 div.sk-label label {font-family: monospace;font-weight: bold;display: inline-block;line-height: 1.2em;}#sk-container-id-1 div.sk-label-container {text-align: center;}#sk-container-id-1 div.sk-container {/* jupyter's `normalize.less` sets `[hidden] { display: none; }` but bootstrap.min.css set `[hidden] { display: none !important; }` so we also need the `!important` here to be able to override the default hidden behavior on the sphinx rendered scikit-learn.org. See: https://github.com/scikit-learn/scikit-learn/issues/21755 */display: inline-block !important;position: relative;}#sk-container-id-1 div.sk-text-repr-fallback {display: none;}</style><div id=\"sk-container-id-1\" class=\"sk-top-container\"><div class=\"sk-text-repr-fallback\"><pre>LinearRegression()</pre><b>In a Jupyter environment, please rerun this cell to show the HTML representation or trust the notebook. <br />On GitHub, the HTML representation is unable to render, please try loading this page with nbviewer.org.</b></div><div class=\"sk-container\" hidden><div class=\"sk-item\"><div class=\"sk-estimator sk-toggleable\"><input class=\"sk-toggleable__control sk-hidden--visually\" id=\"sk-estimator-id-1\" type=\"checkbox\" checked><label for=\"sk-estimator-id-1\" class=\"sk-toggleable__label sk-toggleable__label-arrow\">LinearRegression</label><div class=\"sk-toggleable__content\"><pre>LinearRegression()</pre></div></div></div></div></div>"
      ],
      "text/plain": [
       "LinearRegression()"
      ]
     },
     "execution_count": 27,
     "metadata": {},
     "output_type": "execute_result"
    }
   ],
   "source": [
    "lr_model = LinearRegression()\n",
    "\n",
    "# fit the the model\n",
    "lr_model.fit(X_train_scaled, y_train)"
   ]
  },
  {
   "cell_type": "code",
   "execution_count": 28,
   "id": "05fbdfcc",
   "metadata": {},
   "outputs": [],
   "source": [
    "# create predictions\n",
    "y_pred = lr_model.predict(X_test_scaled)"
   ]
  },
  {
   "cell_type": "code",
   "execution_count": 29,
   "id": "fcb4ce76",
   "metadata": {},
   "outputs": [
    {
     "name": "stdout",
     "output_type": "stream",
     "text": [
      "Actual Energy:  [64.27503737, 55.90433483, 57.6980568, 55.15695067, 56.05381166]\n",
      "..........................................\n",
      "Predicted Energy:  [37.78 11.44 17.94 44.75 20.24]\n"
     ]
    }
   ],
   "source": [
    "# manually compare the Energy consumption\n",
    "print('Actual Energy: ', y.head().tolist())\n",
    "print('..........................................')\n",
    "print('Predicted Energy: ', np.round(y_pred[:5].tolist(), 2))"
   ]
  },
  {
   "cell_type": "code",
   "execution_count": 30,
   "id": "b5690143",
   "metadata": {
    "scrolled": true
   },
   "outputs": [
    {
     "name": "stdout",
     "output_type": "stream",
     "text": [
      "R2 of Linear Regression: 0.56\n",
      "MAE of Linear Regression: 6.88\n",
      "MSE of Linear Regression: 85.53\n",
      "RMSE of Linear Regression: 9.25\n"
     ]
    }
   ],
   "source": [
    "# model evaluation\n",
    "linear_mse = mean_squared_error(y_test, y_pred)\n",
    "linear_r2 = r2_score(y_test, y_pred)\n",
    "linear_mae = mean_absolute_error(y_test, y_pred)\n",
    "linear_rmse = mean_squared_error(y_test, y_pred, squared = False)\n",
    "\n",
    "print('R2 of Linear Regression:', linear_r2.round(2))\n",
    "print('MAE of Linear Regression:', linear_mae.round(2))\n",
    "print('MSE of Linear Regression:', linear_mse.round(2))\n",
    "print('RMSE of Linear Regression:', linear_rmse.round(2))"
   ]
  },
  {
   "cell_type": "markdown",
   "id": "b1b67218",
   "metadata": {},
   "source": [
    "- 1. R-squared (R2): R-squared is a measure of how well the independent variables explain the variability of the dependent variable. It ranges from 0 to 1, where 1 indicates that the model explains all the variability of the response data around its mean. In this case, an R2 of 0.56 suggests that approximately 56% of the variability in the dependent variable is explained by the independent variables in the linear regression model.\n",
    "- 2. Mean Absolute Error (MAE): MAE is the average of the absolute errors between the predicted values and the actual values. It provides a measure of the average magnitude of the errors in the predictions. A MAE of 6.88 means that, on average, the predictions of the linear regression model are off by approximately 6.88 units.\n",
    "- 3. Mean Squared Error (MSE): MSE is the average of the squared differences between the predicted values and the actual values. It emphasizes larger errors more than smaller ones because of the squaring operation. A MSE of 85.53 indicates that, on average, the squared difference between the predicted values and the actual values is 85.53.\n",
    "- 4. Root Mean Squared Error (RMSE): RMSE is the square root of the MSE. It represents the standard deviation of the residuals (the differences between predicted and actual values). An RMSE of 9.25 suggests that, on average, the predictions of the linear regression model are off by approximately 9.25 units, which is the same unit as the dependent variable.\n",
    "\n",
    "In summary, the linear regression model with these metrics indicates that it explains a moderate amount of the variability in the dependent variable, and on average, the predictions have a moderate error of around 6.88 units, with a more substantial error (standard deviation) of approximately 9.25 units."
   ]
  },
  {
   "cell_type": "markdown",
   "id": "c9761b3c",
   "metadata": {},
   "source": [
    "# Random Forest Regressor"
   ]
  },
  {
   "cell_type": "code",
   "execution_count": 31,
   "id": "5a852f60",
   "metadata": {},
   "outputs": [
    {
     "data": {
      "text/html": [
       "<style>#sk-container-id-2 {color: black;}#sk-container-id-2 pre{padding: 0;}#sk-container-id-2 div.sk-toggleable {background-color: white;}#sk-container-id-2 label.sk-toggleable__label {cursor: pointer;display: block;width: 100%;margin-bottom: 0;padding: 0.3em;box-sizing: border-box;text-align: center;}#sk-container-id-2 label.sk-toggleable__label-arrow:before {content: \"▸\";float: left;margin-right: 0.25em;color: #696969;}#sk-container-id-2 label.sk-toggleable__label-arrow:hover:before {color: black;}#sk-container-id-2 div.sk-estimator:hover label.sk-toggleable__label-arrow:before {color: black;}#sk-container-id-2 div.sk-toggleable__content {max-height: 0;max-width: 0;overflow: hidden;text-align: left;background-color: #f0f8ff;}#sk-container-id-2 div.sk-toggleable__content pre {margin: 0.2em;color: black;border-radius: 0.25em;background-color: #f0f8ff;}#sk-container-id-2 input.sk-toggleable__control:checked~div.sk-toggleable__content {max-height: 200px;max-width: 100%;overflow: auto;}#sk-container-id-2 input.sk-toggleable__control:checked~label.sk-toggleable__label-arrow:before {content: \"▾\";}#sk-container-id-2 div.sk-estimator input.sk-toggleable__control:checked~label.sk-toggleable__label {background-color: #d4ebff;}#sk-container-id-2 div.sk-label input.sk-toggleable__control:checked~label.sk-toggleable__label {background-color: #d4ebff;}#sk-container-id-2 input.sk-hidden--visually {border: 0;clip: rect(1px 1px 1px 1px);clip: rect(1px, 1px, 1px, 1px);height: 1px;margin: -1px;overflow: hidden;padding: 0;position: absolute;width: 1px;}#sk-container-id-2 div.sk-estimator {font-family: monospace;background-color: #f0f8ff;border: 1px dotted black;border-radius: 0.25em;box-sizing: border-box;margin-bottom: 0.5em;}#sk-container-id-2 div.sk-estimator:hover {background-color: #d4ebff;}#sk-container-id-2 div.sk-parallel-item::after {content: \"\";width: 100%;border-bottom: 1px solid gray;flex-grow: 1;}#sk-container-id-2 div.sk-label:hover label.sk-toggleable__label {background-color: #d4ebff;}#sk-container-id-2 div.sk-serial::before {content: \"\";position: absolute;border-left: 1px solid gray;box-sizing: border-box;top: 0;bottom: 0;left: 50%;z-index: 0;}#sk-container-id-2 div.sk-serial {display: flex;flex-direction: column;align-items: center;background-color: white;padding-right: 0.2em;padding-left: 0.2em;position: relative;}#sk-container-id-2 div.sk-item {position: relative;z-index: 1;}#sk-container-id-2 div.sk-parallel {display: flex;align-items: stretch;justify-content: center;background-color: white;position: relative;}#sk-container-id-2 div.sk-item::before, #sk-container-id-2 div.sk-parallel-item::before {content: \"\";position: absolute;border-left: 1px solid gray;box-sizing: border-box;top: 0;bottom: 0;left: 50%;z-index: -1;}#sk-container-id-2 div.sk-parallel-item {display: flex;flex-direction: column;z-index: 1;position: relative;background-color: white;}#sk-container-id-2 div.sk-parallel-item:first-child::after {align-self: flex-end;width: 50%;}#sk-container-id-2 div.sk-parallel-item:last-child::after {align-self: flex-start;width: 50%;}#sk-container-id-2 div.sk-parallel-item:only-child::after {width: 0;}#sk-container-id-2 div.sk-dashed-wrapped {border: 1px dashed gray;margin: 0 0.4em 0.5em 0.4em;box-sizing: border-box;padding-bottom: 0.4em;background-color: white;}#sk-container-id-2 div.sk-label label {font-family: monospace;font-weight: bold;display: inline-block;line-height: 1.2em;}#sk-container-id-2 div.sk-label-container {text-align: center;}#sk-container-id-2 div.sk-container {/* jupyter's `normalize.less` sets `[hidden] { display: none; }` but bootstrap.min.css set `[hidden] { display: none !important; }` so we also need the `!important` here to be able to override the default hidden behavior on the sphinx rendered scikit-learn.org. See: https://github.com/scikit-learn/scikit-learn/issues/21755 */display: inline-block !important;position: relative;}#sk-container-id-2 div.sk-text-repr-fallback {display: none;}</style><div id=\"sk-container-id-2\" class=\"sk-top-container\"><div class=\"sk-text-repr-fallback\"><pre>RandomForestRegressor()</pre><b>In a Jupyter environment, please rerun this cell to show the HTML representation or trust the notebook. <br />On GitHub, the HTML representation is unable to render, please try loading this page with nbviewer.org.</b></div><div class=\"sk-container\" hidden><div class=\"sk-item\"><div class=\"sk-estimator sk-toggleable\"><input class=\"sk-toggleable__control sk-hidden--visually\" id=\"sk-estimator-id-2\" type=\"checkbox\" checked><label for=\"sk-estimator-id-2\" class=\"sk-toggleable__label sk-toggleable__label-arrow\">RandomForestRegressor</label><div class=\"sk-toggleable__content\"><pre>RandomForestRegressor()</pre></div></div></div></div></div>"
      ],
      "text/plain": [
       "RandomForestRegressor()"
      ]
     },
     "execution_count": 31,
     "metadata": {},
     "output_type": "execute_result"
    }
   ],
   "source": [
    "rf_model = RandomForestRegressor()\n",
    "\n",
    "# fit the the model\n",
    "rf_model.fit(X_train_scaled, y_train)"
   ]
  },
  {
   "cell_type": "code",
   "execution_count": 32,
   "id": "050dd06e",
   "metadata": {},
   "outputs": [],
   "source": [
    "# create predictions\n",
    "y_pred = rf_model.predict(X_test_scaled)"
   ]
  },
  {
   "cell_type": "code",
   "execution_count": 33,
   "id": "1e39a67f",
   "metadata": {},
   "outputs": [
    {
     "name": "stdout",
     "output_type": "stream",
     "text": [
      "Actual Energy:  [64.27503737, 55.90433483, 57.6980568, 55.15695067, 56.05381166]\n",
      "..........................................\n",
      "Predicted Energy:  [49.39  9.91 14.64 57.22 37.96]\n"
     ]
    }
   ],
   "source": [
    "# manually compare the Energy consumption\n",
    "print('Actual Energy: ', y.head().tolist())\n",
    "print('..........................................')\n",
    "print('Predicted Energy: ', np.round(y_pred[:5].tolist(), 2))"
   ]
  },
  {
   "cell_type": "code",
   "execution_count": 34,
   "id": "d5841ac3",
   "metadata": {
    "scrolled": true
   },
   "outputs": [
    {
     "name": "stdout",
     "output_type": "stream",
     "text": [
      "R2 of Random Forest Regressor: 0.94\n",
      "MAE of Random Forest Regressor: 2.08\n",
      "MSE of Random Forest Regressor: 10.9\n",
      "RMSE of Random Forest Regressor: 3.3\n"
     ]
    }
   ],
   "source": [
    "# model evaluation\n",
    "rf_mse = mean_squared_error(y_test, y_pred)\n",
    "rf_r2 = r2_score(y_test, y_pred)\n",
    "rf_mae = mean_absolute_error(y_test, y_pred)\n",
    "rf_rmse = mean_squared_error(y_test, y_pred, squared = False)\n",
    "\n",
    "print('R2 of Random Forest Regressor:', rf_r2.round(2))\n",
    "print('MAE of Random Forest Regressor:', rf_mae.round(2))\n",
    "print('MSE of Random Forest Regressor:', rf_mse.round(2))\n",
    "print('RMSE of Random Forest Regressor:', rf_rmse.round(2))"
   ]
  },
  {
   "cell_type": "markdown",
   "id": "bd4b202d",
   "metadata": {},
   "source": [
    "- 1.R-squared (R2): The R-squared value of 0.94 suggests that approximately 94% of the variability in the dependent variable is explained by the independent variables in the Random Forest Regressor model. This indicates a very strong fit to the data, much better than the linear regression model.\n",
    "- 2.Mean Absolute Error (MAE): The MAE of 2.08 means that, on average, the predictions of the Random Forest Regressor model are off by approximately 2.08 units. This indicates a relatively low average error in the predictions compared to the linear regression model.\n",
    "- 3.Mean Squared Error (MSE): The MSE of 10.87 indicates that, on average, the squared difference between the predicted values and the actual values is 10.87. This is significantly lower than the MSE of the linear regression model, suggesting that the Random Forest Regressor model provides more accurate predictions.\n",
    "- 4.Root Mean Squared Error (RMSE): The RMSE of 3.3 is the square root of the MSE and represents the standard deviation of the residuals. An RMSE of 3.3 suggests that, on average, the predictions of the Random Forest Regressor model are off by approximately 3.3 units, which is considerably lower than the RMSE of the linear regression model.\n",
    "\n",
    "In summary, the Random Forest Regressor model outperforms the linear regression model significantly, as evidenced by its higher R-squared value and lower error metrics (MAE, MSE, and RMSE). It indicates a strong fit to the data and provides more accurate predictions."
   ]
  },
  {
   "cell_type": "markdown",
   "id": "281e0883",
   "metadata": {},
   "source": [
    "## Lasso Regression "
   ]
  },
  {
   "cell_type": "code",
   "execution_count": 35,
   "id": "01dc256b",
   "metadata": {},
   "outputs": [
    {
     "data": {
      "text/html": [
       "<style>#sk-container-id-3 {color: black;}#sk-container-id-3 pre{padding: 0;}#sk-container-id-3 div.sk-toggleable {background-color: white;}#sk-container-id-3 label.sk-toggleable__label {cursor: pointer;display: block;width: 100%;margin-bottom: 0;padding: 0.3em;box-sizing: border-box;text-align: center;}#sk-container-id-3 label.sk-toggleable__label-arrow:before {content: \"▸\";float: left;margin-right: 0.25em;color: #696969;}#sk-container-id-3 label.sk-toggleable__label-arrow:hover:before {color: black;}#sk-container-id-3 div.sk-estimator:hover label.sk-toggleable__label-arrow:before {color: black;}#sk-container-id-3 div.sk-toggleable__content {max-height: 0;max-width: 0;overflow: hidden;text-align: left;background-color: #f0f8ff;}#sk-container-id-3 div.sk-toggleable__content pre {margin: 0.2em;color: black;border-radius: 0.25em;background-color: #f0f8ff;}#sk-container-id-3 input.sk-toggleable__control:checked~div.sk-toggleable__content {max-height: 200px;max-width: 100%;overflow: auto;}#sk-container-id-3 input.sk-toggleable__control:checked~label.sk-toggleable__label-arrow:before {content: \"▾\";}#sk-container-id-3 div.sk-estimator input.sk-toggleable__control:checked~label.sk-toggleable__label {background-color: #d4ebff;}#sk-container-id-3 div.sk-label input.sk-toggleable__control:checked~label.sk-toggleable__label {background-color: #d4ebff;}#sk-container-id-3 input.sk-hidden--visually {border: 0;clip: rect(1px 1px 1px 1px);clip: rect(1px, 1px, 1px, 1px);height: 1px;margin: -1px;overflow: hidden;padding: 0;position: absolute;width: 1px;}#sk-container-id-3 div.sk-estimator {font-family: monospace;background-color: #f0f8ff;border: 1px dotted black;border-radius: 0.25em;box-sizing: border-box;margin-bottom: 0.5em;}#sk-container-id-3 div.sk-estimator:hover {background-color: #d4ebff;}#sk-container-id-3 div.sk-parallel-item::after {content: \"\";width: 100%;border-bottom: 1px solid gray;flex-grow: 1;}#sk-container-id-3 div.sk-label:hover label.sk-toggleable__label {background-color: #d4ebff;}#sk-container-id-3 div.sk-serial::before {content: \"\";position: absolute;border-left: 1px solid gray;box-sizing: border-box;top: 0;bottom: 0;left: 50%;z-index: 0;}#sk-container-id-3 div.sk-serial {display: flex;flex-direction: column;align-items: center;background-color: white;padding-right: 0.2em;padding-left: 0.2em;position: relative;}#sk-container-id-3 div.sk-item {position: relative;z-index: 1;}#sk-container-id-3 div.sk-parallel {display: flex;align-items: stretch;justify-content: center;background-color: white;position: relative;}#sk-container-id-3 div.sk-item::before, #sk-container-id-3 div.sk-parallel-item::before {content: \"\";position: absolute;border-left: 1px solid gray;box-sizing: border-box;top: 0;bottom: 0;left: 50%;z-index: -1;}#sk-container-id-3 div.sk-parallel-item {display: flex;flex-direction: column;z-index: 1;position: relative;background-color: white;}#sk-container-id-3 div.sk-parallel-item:first-child::after {align-self: flex-end;width: 50%;}#sk-container-id-3 div.sk-parallel-item:last-child::after {align-self: flex-start;width: 50%;}#sk-container-id-3 div.sk-parallel-item:only-child::after {width: 0;}#sk-container-id-3 div.sk-dashed-wrapped {border: 1px dashed gray;margin: 0 0.4em 0.5em 0.4em;box-sizing: border-box;padding-bottom: 0.4em;background-color: white;}#sk-container-id-3 div.sk-label label {font-family: monospace;font-weight: bold;display: inline-block;line-height: 1.2em;}#sk-container-id-3 div.sk-label-container {text-align: center;}#sk-container-id-3 div.sk-container {/* jupyter's `normalize.less` sets `[hidden] { display: none; }` but bootstrap.min.css set `[hidden] { display: none !important; }` so we also need the `!important` here to be able to override the default hidden behavior on the sphinx rendered scikit-learn.org. See: https://github.com/scikit-learn/scikit-learn/issues/21755 */display: inline-block !important;position: relative;}#sk-container-id-3 div.sk-text-repr-fallback {display: none;}</style><div id=\"sk-container-id-3\" class=\"sk-top-container\"><div class=\"sk-text-repr-fallback\"><pre>Lasso(alpha=0.5)</pre><b>In a Jupyter environment, please rerun this cell to show the HTML representation or trust the notebook. <br />On GitHub, the HTML representation is unable to render, please try loading this page with nbviewer.org.</b></div><div class=\"sk-container\" hidden><div class=\"sk-item\"><div class=\"sk-estimator sk-toggleable\"><input class=\"sk-toggleable__control sk-hidden--visually\" id=\"sk-estimator-id-3\" type=\"checkbox\" checked><label for=\"sk-estimator-id-3\" class=\"sk-toggleable__label sk-toggleable__label-arrow\">Lasso</label><div class=\"sk-toggleable__content\"><pre>Lasso(alpha=0.5)</pre></div></div></div></div></div>"
      ],
      "text/plain": [
       "Lasso(alpha=0.5)"
      ]
     },
     "execution_count": 35,
     "metadata": {},
     "output_type": "execute_result"
    }
   ],
   "source": [
    "lasso_model =  Lasso(alpha = 0.5)\n",
    "\n",
    "# fit the the model\n",
    "lasso_model.fit(X_train_scaled, y_train)"
   ]
  },
  {
   "cell_type": "code",
   "execution_count": 36,
   "id": "53700437",
   "metadata": {},
   "outputs": [],
   "source": [
    "# create predictions\n",
    "y_pred = lasso_model.predict(X_test_scaled)"
   ]
  },
  {
   "cell_type": "code",
   "execution_count": 37,
   "id": "2909e195",
   "metadata": {},
   "outputs": [
    {
     "name": "stdout",
     "output_type": "stream",
     "text": [
      "Actual Energy:  [64.27503737, 55.90433483, 57.6980568, 55.15695067, 56.05381166]\n",
      "..........................................\n",
      "Predicted Energy:  [31.98 21.44 23.2  38.76 21.53]\n"
     ]
    }
   ],
   "source": [
    "# manually compare the Energy comsuption\n",
    "print('Actual Energy: ', y.head().tolist())\n",
    "print('..........................................')\n",
    "print('Predicted Energy: ', np.round(y_pred[:5].tolist(), 2))"
   ]
  },
  {
   "cell_type": "code",
   "execution_count": 38,
   "id": "0be908f3",
   "metadata": {},
   "outputs": [
    {
     "name": "stdout",
     "output_type": "stream",
     "text": [
      "R2 of Lasso Regressor: 0.4\n",
      "MAE of Lasso Regressor: 8.3\n",
      "MSE of Lasso Regressor: 116.38\n",
      "RMSE of Lasso Regressor: 10.79\n"
     ]
    }
   ],
   "source": [
    "# model evaluation\n",
    "lasso_mse = mean_squared_error(y_test, y_pred)\n",
    "lasso_r2 = r2_score(y_test, y_pred)\n",
    "lasso_mae = mean_absolute_error(y_test, y_pred)\n",
    "lasso_rmse = mean_squared_error(y_test, y_pred, squared = False)\n",
    "\n",
    "print('R2 of Lasso Regressor:', lasso_r2.round(2))\n",
    "print('MAE of Lasso Regressor:', lasso_mae.round(2))\n",
    "print('MSE of Lasso Regressor:', lasso_mse.round(2))\n",
    "print('RMSE of Lasso Regressor:', lasso_rmse.round(2))"
   ]
  },
  {
   "cell_type": "markdown",
   "id": "85d0a157",
   "metadata": {},
   "source": [
    "- 1.R-squared (R2): The R-squared value of 0.4 suggests that approximately 40% of the variability in the dependent variable is explained by the independent variables in the Lasso Regressor model. This indicates a moderate fit to the data, but it's lower compared to the Random Forest Regressor.\n",
    "- 2.Mean Absolute Error (MAE): The MAE of 8.3 means that, on average, the predictions of the Lasso Regressor model are off by approximately 8.3 units. This indicates a moderate average error in the predictions.\n",
    "- 3.Mean Squared Error (MSE): The MSE of 116.38 indicates that, on average, the squared difference between the predicted values and the actual values is 116.38. This is higher than both the Random Forest Regressor and the linear regression model, suggesting that the Lasso Regressor model has higher prediction errors.\n",
    "- 4.Root Mean Squared Error (RMSE): The RMSE of 10.79 is the square root of the MSE and represents the standard deviation of the residuals. An RMSE of 10.79 suggests that, on average, the predictions of the Lasso Regressor model are off by approximately 10.79 units, which is higher compared to the Random Forest Regressor and the linear regression model.\n",
    "\n",
    "In summary, the Lasso Regressor model has a lower R-squared value and higher error metrics (MAE, MSE, and RMSE) compared to the Random Forest Regressor, indicating a weaker fit to the data and less accurate predictions. However, it's still performing better than the linear regression model."
   ]
  },
  {
   "cell_type": "code",
   "execution_count": 39,
   "id": "27f2d325",
   "metadata": {},
   "outputs": [
    {
     "data": {
      "text/html": [
       "<style>#sk-container-id-4 {color: black;}#sk-container-id-4 pre{padding: 0;}#sk-container-id-4 div.sk-toggleable {background-color: white;}#sk-container-id-4 label.sk-toggleable__label {cursor: pointer;display: block;width: 100%;margin-bottom: 0;padding: 0.3em;box-sizing: border-box;text-align: center;}#sk-container-id-4 label.sk-toggleable__label-arrow:before {content: \"▸\";float: left;margin-right: 0.25em;color: #696969;}#sk-container-id-4 label.sk-toggleable__label-arrow:hover:before {color: black;}#sk-container-id-4 div.sk-estimator:hover label.sk-toggleable__label-arrow:before {color: black;}#sk-container-id-4 div.sk-toggleable__content {max-height: 0;max-width: 0;overflow: hidden;text-align: left;background-color: #f0f8ff;}#sk-container-id-4 div.sk-toggleable__content pre {margin: 0.2em;color: black;border-radius: 0.25em;background-color: #f0f8ff;}#sk-container-id-4 input.sk-toggleable__control:checked~div.sk-toggleable__content {max-height: 200px;max-width: 100%;overflow: auto;}#sk-container-id-4 input.sk-toggleable__control:checked~label.sk-toggleable__label-arrow:before {content: \"▾\";}#sk-container-id-4 div.sk-estimator input.sk-toggleable__control:checked~label.sk-toggleable__label {background-color: #d4ebff;}#sk-container-id-4 div.sk-label input.sk-toggleable__control:checked~label.sk-toggleable__label {background-color: #d4ebff;}#sk-container-id-4 input.sk-hidden--visually {border: 0;clip: rect(1px 1px 1px 1px);clip: rect(1px, 1px, 1px, 1px);height: 1px;margin: -1px;overflow: hidden;padding: 0;position: absolute;width: 1px;}#sk-container-id-4 div.sk-estimator {font-family: monospace;background-color: #f0f8ff;border: 1px dotted black;border-radius: 0.25em;box-sizing: border-box;margin-bottom: 0.5em;}#sk-container-id-4 div.sk-estimator:hover {background-color: #d4ebff;}#sk-container-id-4 div.sk-parallel-item::after {content: \"\";width: 100%;border-bottom: 1px solid gray;flex-grow: 1;}#sk-container-id-4 div.sk-label:hover label.sk-toggleable__label {background-color: #d4ebff;}#sk-container-id-4 div.sk-serial::before {content: \"\";position: absolute;border-left: 1px solid gray;box-sizing: border-box;top: 0;bottom: 0;left: 50%;z-index: 0;}#sk-container-id-4 div.sk-serial {display: flex;flex-direction: column;align-items: center;background-color: white;padding-right: 0.2em;padding-left: 0.2em;position: relative;}#sk-container-id-4 div.sk-item {position: relative;z-index: 1;}#sk-container-id-4 div.sk-parallel {display: flex;align-items: stretch;justify-content: center;background-color: white;position: relative;}#sk-container-id-4 div.sk-item::before, #sk-container-id-4 div.sk-parallel-item::before {content: \"\";position: absolute;border-left: 1px solid gray;box-sizing: border-box;top: 0;bottom: 0;left: 50%;z-index: -1;}#sk-container-id-4 div.sk-parallel-item {display: flex;flex-direction: column;z-index: 1;position: relative;background-color: white;}#sk-container-id-4 div.sk-parallel-item:first-child::after {align-self: flex-end;width: 50%;}#sk-container-id-4 div.sk-parallel-item:last-child::after {align-self: flex-start;width: 50%;}#sk-container-id-4 div.sk-parallel-item:only-child::after {width: 0;}#sk-container-id-4 div.sk-dashed-wrapped {border: 1px dashed gray;margin: 0 0.4em 0.5em 0.4em;box-sizing: border-box;padding-bottom: 0.4em;background-color: white;}#sk-container-id-4 div.sk-label label {font-family: monospace;font-weight: bold;display: inline-block;line-height: 1.2em;}#sk-container-id-4 div.sk-label-container {text-align: center;}#sk-container-id-4 div.sk-container {/* jupyter's `normalize.less` sets `[hidden] { display: none; }` but bootstrap.min.css set `[hidden] { display: none !important; }` so we also need the `!important` here to be able to override the default hidden behavior on the sphinx rendered scikit-learn.org. See: https://github.com/scikit-learn/scikit-learn/issues/21755 */display: inline-block !important;position: relative;}#sk-container-id-4 div.sk-text-repr-fallback {display: none;}</style><div id=\"sk-container-id-4\" class=\"sk-top-container\"><div class=\"sk-text-repr-fallback\"><pre>DecisionTreeRegressor()</pre><b>In a Jupyter environment, please rerun this cell to show the HTML representation or trust the notebook. <br />On GitHub, the HTML representation is unable to render, please try loading this page with nbviewer.org.</b></div><div class=\"sk-container\" hidden><div class=\"sk-item\"><div class=\"sk-estimator sk-toggleable\"><input class=\"sk-toggleable__control sk-hidden--visually\" id=\"sk-estimator-id-4\" type=\"checkbox\" checked><label for=\"sk-estimator-id-4\" class=\"sk-toggleable__label sk-toggleable__label-arrow\">DecisionTreeRegressor</label><div class=\"sk-toggleable__content\"><pre>DecisionTreeRegressor()</pre></div></div></div></div></div>"
      ],
      "text/plain": [
       "DecisionTreeRegressor()"
      ]
     },
     "execution_count": 39,
     "metadata": {},
     "output_type": "execute_result"
    }
   ],
   "source": [
    "dc_model = DecisionTreeRegressor()\n",
    "\n",
    "# fit the the model\n",
    "dc_model.fit(X_train_scaled, y_train)"
   ]
  },
  {
   "cell_type": "code",
   "execution_count": 40,
   "id": "2f990a41",
   "metadata": {},
   "outputs": [],
   "source": [
    "# create predictions\n",
    "y_pred = dc_model.predict(X_test_scaled)"
   ]
  },
  {
   "cell_type": "code",
   "execution_count": 41,
   "id": "a6640830",
   "metadata": {},
   "outputs": [
    {
     "name": "stdout",
     "output_type": "stream",
     "text": [
      "Actual Energy:  [64.27503737, 55.90433483, 57.6980568, 55.15695067, 56.05381166]\n",
      "..........................................\n",
      "Predicted Energy:  [47.23 10.31 13.75 55.16 38.27]\n"
     ]
    }
   ],
   "source": [
    "# manually compare the energy consumed\n",
    "print('Actual Energy: ', y.head().tolist())\n",
    "print('..........................................')\n",
    "print('Predicted Energy: ', np.round(y_pred[:5].tolist(), 2))"
   ]
  },
  {
   "cell_type": "code",
   "execution_count": 42,
   "id": "353bd1e3",
   "metadata": {},
   "outputs": [
    {
     "name": "stdout",
     "output_type": "stream",
     "text": [
      "R2 of Decision Tree Regressor: 0.91\n",
      "MAE of Decision Tree Regressor: 2.56\n",
      "MSE of Decision Tree Regressor: 17.87\n",
      "RMSE of Decision Tree Regressor: 4.23\n"
     ]
    }
   ],
   "source": [
    "# model evaluation\n",
    "dc_mse = mean_squared_error(y_test, y_pred)\n",
    "dc_r2 = r2_score(y_test, y_pred)\n",
    "dc_mae = mean_absolute_error(y_test, y_pred)\n",
    "dc_rmse = mean_squared_error(y_test, y_pred, squared = False)\n",
    "\n",
    "print('R2 of Decision Tree Regressor:', dc_r2.round(2))\n",
    "print('MAE of Decision Tree Regressor:', dc_mae.round(2))\n",
    "print('MSE of Decision Tree Regressor:', dc_mse.round(2))\n",
    "print('RMSE of Decision Tree Regressor:', dc_rmse.round(2))"
   ]
  },
  {
   "cell_type": "markdown",
   "id": "e542f5fc",
   "metadata": {},
   "source": [
    "- 1.R-squared (R2): The R-squared value of 0.91 suggests that approximately 91% of the variability in the dependent variable is explained by the independent variables in the Decision Tree Regressor model. This indicates a very strong fit to the data, comparable to the Random Forest Regressor.\n",
    "- 2.Mean Absolute Error (MAE): The MAE of 2.56 means that, on average, the predictions of the Decision Tree Regressor model are off by approximately 2.56 units. This indicates a relatively low average error in the predictions, which is similar to the Random Forest Regressor.\n",
    "- 3.Mean Squared Error (MSE): The MSE of 17.88 indicates that, on average, the squared difference between the predicted values and the actual values is 17.88. This is higher than the Random Forest Regressor but still relatively low.\n",
    "- 4.Root Mean Squared Error (RMSE): The RMSE of 4.23 is the square root of the MSE and represents the standard deviation of the residuals. An RMSE of 4.23 suggests that, on average, the predictions of the Decision Tree Regressor model are off by approximately 4.23 units, which is higher than the Random Forest Regressor but still reasonable.\n",
    "\n",
    "In summary, the Decision Tree Regressor model performs very well, similar to the Random Forest Regressor, with high R-squared value and low error metrics (MAE, MSE, and RMSE). It indicates a strong fit to the data and provides accurate predictions."
   ]
  },
  {
   "cell_type": "markdown",
   "id": "a9b023dc",
   "metadata": {},
   "source": [
    "R2 of Random Forest Regressor: 0.94\n",
    "MAE of Random Forest Regressor: 2.08\n",
    "MSE of Random Forest Regressor: 10.87\n",
    "RMSE of Random Forest Regressor: 3.3\n",
    "\n",
    "R2 of Linear Regression: 0.56\n",
    "MAE of Linear Regression: 6.88\n",
    "MSE of Linear Regression: 85.53\n",
    "RMSE of Linear Regression: 9.25\n",
    "\n",
    "R2 of Lasso Regressor: 0.4\n",
    "MAE of Lasso Regressor: 8.3\n",
    "MSE of Lasso Regressor: 116.38\n",
    "RMSE of Lasso Regressor: 10.79\n",
    "\n",
    "R2 of Decision Tree Regressor: 0.91\n",
    "MAE of Decision Tree Regressor: 2.56\n",
    "MSE of Decision Tree Regressor: 17.88\n",
    "RMSE of Decision Tree Regressor: 4.23\n",
    "\n"
   ]
  },
  {
   "cell_type": "markdown",
   "id": "1f9b44a2",
   "metadata": {},
   "source": [
    "In summary:\n",
    "    \n",
    "- Random Forest Regressor outperforms other models with the highest R2 and lowest error metrics.\n",
    "- Decision Tree Regressor performs well with high R2 and relatively low error metrics. \n",
    "- Linear Regression has moderate performance with an R2 of 0.56 and higher error metrics compared to Random Forest and Decision Tree.\n",
    "- Lasso Regressor has the lowest performance among the models with the lowest R2 and highest error metrics."
   ]
  },
  {
   "cell_type": "code",
   "execution_count": null,
   "id": "9875d165",
   "metadata": {},
   "outputs": [],
   "source": []
  }
 ],
 "metadata": {
  "kernelspec": {
   "display_name": "Python 3 (ipykernel)",
   "language": "python",
   "name": "python3"
  },
  "language_info": {
   "codemirror_mode": {
    "name": "ipython",
    "version": 3
   },
   "file_extension": ".py",
   "mimetype": "text/x-python",
   "name": "python",
   "nbconvert_exporter": "python",
   "pygments_lexer": "ipython3",
   "version": "3.11.5"
  }
 },
 "nbformat": 4,
 "nbformat_minor": 5
}
