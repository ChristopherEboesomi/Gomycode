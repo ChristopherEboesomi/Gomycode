{
 "cells": [
  {
   "cell_type": "markdown",
   "id": "d5f6d4b2",
   "metadata": {},
   "source": [
    "# Checkpoint Objective\n",
    "\n",
    "Create a class called \"Account\" that has the following attributes:\n",
    "\n",
    "- account_number (string)\n",
    "- account_balance (float)\n",
    "- account_holder (string)\n",
    "\n",
    "The class should have the following methods:\n",
    "- deposit(amount: float) - This method should add the amount passed as an argument to the account balance.\n",
    "- withdraw(amount: float) - This method should subtract the amount passed as an argument from the account balance, but only if the account balance is greater than the amount being withdrawn.\n",
    "- check_balance() - This method should return the current account balance.\n",
    "\n",
    "## Instructions\n",
    "- Create a new file called \"bank_account.py\"\n",
    "- Define the Account class and its attributes as specified above.\n",
    "- Define the deposit() method. It should take in one argument, the amount to be deposited, and add it to the account balance.\n",
    "- Define the withdraw() method. It should take in one argument, the amount to be withdrawn, and subtract it from the account balance. The method should only execute the withdrawal if the account balance is greater than or equal to the amount to be withdrawn.\n",
    "- Define the check_balance() method. It should return the current account balance.\n",
    "- Create an instance of the Account class, and assign it to a variable called \"my_account\".\n",
    "- Use the methods of the class to deposit and withdraw money from the account, and check the account balance.\n",
    "- Test the program by creating multiple instances of the class and performing different transactions on them."
   ]
  },
  {
   "cell_type": "code",
   "execution_count": 6,
   "id": "8265ffc3",
   "metadata": {},
   "outputs": [
    {
     "name": "stdout",
     "output_type": "stream",
     "text": [
      "Deposited $500.0. New balance: $2500.0\n",
      "Withdrew $200.0.New balance: $2300.0\n",
      "Currrent Balance: 2300.0\n",
      "Deposited $2000.0. New balance: $4900.0\n",
      "Withdrew $1800.0.New balance: $3100.0\n",
      "Another Account Balance: 3100.0\n"
     ]
    }
   ],
   "source": [
    "class Account:\n",
    "    def __init__(self,account_number:str,account_balance:float,account_holder:str):\n",
    "        \n",
    "        self.account_number=account_number\n",
    "        self.account_balance=account_balance\n",
    "        self.account_holder=account_holder\n",
    "    def deposit(self,amount:float):\n",
    "        self.account_balance += amount\n",
    "        print(f\"Deposited ${amount}. New balance: ${self.account_balance}\")\n",
    "    def withdraw(self,amount):\n",
    "        if self.account_balance >= amount:\n",
    "            self.account_balance -= amount\n",
    "            print(f\"Withdrew ${amount}.New balance: ${self.account_balance}\")\n",
    "            \n",
    "        else:\n",
    "            print(\"Insufficient funds.Withdrawal canceled.\")\n",
    "    def check_balance(self):\n",
    "        return self.account_balance\n",
    "    \n",
    "# Create an instance of the Account class\n",
    "my_account=Account(account_number=\"6782980523\",account_balance=2000.0,account_holder=\"Eboesomi Chris\")\n",
    "\n",
    "#Test the methods\n",
    "my_account.deposit(500.0)\n",
    "my_account.withdraw(200.0)\n",
    "print(\"Currrent Balance:\",my_account.check_balance())\n",
    "\n",
    "# Test with another account\n",
    "another_account = Account(account_number =\"7684520913\",account_balance=2900.0,account_holder=\"Ngozi Moge\")\n",
    "another_account.deposit(2000.0)\n",
    "another_account.withdraw(1800.0)\n",
    "print(\"Another Account Balance:\",another_account.check_balance())"
   ]
  },
  {
   "cell_type": "code",
   "execution_count": null,
   "id": "5e7b4208",
   "metadata": {},
   "outputs": [],
   "source": []
  }
 ],
 "metadata": {
  "kernelspec": {
   "display_name": "Python 3 (ipykernel)",
   "language": "python",
   "name": "python3"
  },
  "language_info": {
   "codemirror_mode": {
    "name": "ipython",
    "version": 3
   },
   "file_extension": ".py",
   "mimetype": "text/x-python",
   "name": "python",
   "nbconvert_exporter": "python",
   "pygments_lexer": "ipython3",
   "version": "3.9.7"
  }
 },
 "nbformat": 4,
 "nbformat_minor": 5
}
