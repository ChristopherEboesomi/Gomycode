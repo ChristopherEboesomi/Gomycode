{
 "cells": [
  {
   "cell_type": "markdown",
   "id": "eb596129",
   "metadata": {},
   "source": [
    "## Checkpoint Objective\n",
    "\n",
    "Create a numpy array called \"grades\" that contains the following grades: [85, 90, 88, 92, 95, 80, 75, 98, 89, 83]\n",
    "\n",
    "## Instructions \n",
    "\n",
    "- Create a new file called \"grades_analysis.py\"\n",
    "- Import the numpy library and create the \"grades\" array as specified above.\n",
    "- Use numpy functions to calculate the mean, median, and standard deviation of the grades.\n",
    "- Use numpy function to find the maximum and minimum of the grades.\n",
    "- Use numpy function to sort the grades in ascending order.\n",
    "- Use numpy function to find the index of the highest grade in the array.\n",
    "- Use numpy function to count the number of students who scored above 90.\n",
    "- Use numpy function to calculate the percentage of students who scored above 90.\n",
    "- Use numpy function to calculate the percentage of students who scored below 75.\n",
    "- Use numpy function to extract all the grades above 90 and put them in a new array called \"high_performers\".\n",
    "- Create a new array called \"passing_grades\" that contains all the grades above 75.\n",
    "- Print the result of all the above steps.\n",
    "\n",
    "Note:\n",
    "\n",
    "  - to calculate percentage use numpy.mean(grades > 90) * 100\n",
    "  - to extract the grades above 90 use grades[grades > 90]\n",
    "  - to extract the grades above 75 use grades[grades > 75]\n",
    "  \n",
    "  You can use other numpy functions as well to analyze the data as you want. The above steps are just examples of what can be done."
   ]
  },
  {
   "cell_type": "code",
   "execution_count": 1,
   "id": "4496d4c6",
   "metadata": {},
   "outputs": [],
   "source": [
    "import numpy as np\n",
    "\n",
    "\n",
    "# create  \"grades\" array\n",
    "\n",
    "grades = np.array([85,90,88,92,95,80,75,98,89,83])"
   ]
  },
  {
   "cell_type": "code",
   "execution_count": 2,
   "id": "1f4fe160",
   "metadata": {},
   "outputs": [],
   "source": [
    "# calculate the mean,median and standard deviation\n",
    "mean_grade = np.mean(grades)\n",
    "median_grade = np.median(grades)\n",
    "std_deviation = np.std(grades)"
   ]
  },
  {
   "cell_type": "code",
   "execution_count": 3,
   "id": "2add2e79",
   "metadata": {},
   "outputs": [],
   "source": [
    "# Find maximum and minimum grades\n",
    "\n",
    "max_grade = np.max(grades)\n",
    "min_grade = np.min(grades)"
   ]
  },
  {
   "cell_type": "code",
   "execution_count": 4,
   "id": "94886065",
   "metadata": {},
   "outputs": [],
   "source": [
    "# sort grades in ascending order\n",
    "sorted_grades = np.sort(grades)"
   ]
  },
  {
   "cell_type": "code",
   "execution_count": 5,
   "id": "e7847067",
   "metadata": {},
   "outputs": [],
   "source": [
    "# Find the index of the highest grade\n",
    "\n",
    "index_highest_grade = np.argmax(grades)"
   ]
  },
  {
   "cell_type": "code",
   "execution_count": 6,
   "id": "5f970e22",
   "metadata": {},
   "outputs": [],
   "source": [
    "# Count the number of student who scored above 90\n",
    "\n",
    "above_90_count = np.sum(grades>90)"
   ]
  },
  {
   "cell_type": "code",
   "execution_count": 7,
   "id": "7ed59441",
   "metadata": {},
   "outputs": [],
   "source": [
    "# calculate the percentage of students who scored above 90\n",
    "percent_above_90 = np.mean(grades > 90) * 100"
   ]
  },
  {
   "cell_type": "code",
   "execution_count": 8,
   "id": "b9628d07",
   "metadata": {},
   "outputs": [],
   "source": [
    "# calculate the percentage of student who scored below 75\n",
    "percent_below_75 = np.mean(grades < 75)*100"
   ]
  },
  {
   "cell_type": "code",
   "execution_count": 9,
   "id": "b0c7ca50",
   "metadata": {},
   "outputs": [],
   "source": [
    "# Extract grades above 90 and put them in a new array\n",
    "high_performers = grades[grades > 90]"
   ]
  },
  {
   "cell_type": "code",
   "execution_count": 11,
   "id": "c2df12e4",
   "metadata": {},
   "outputs": [
    {
     "name": "stdout",
     "output_type": "stream",
     "text": [
      "Grades: [85 90 88 92 95 80 75 98 89 83]\n",
      "Mean Grade: 87.5\n",
      "Median Grade: 88.5\n",
      "Standard Deviation: 6.591661399070799\n",
      "Maximum Grade: 98\n",
      "Minimum Grade: 75\n",
      "Sorted Grade: [75 80 83 85 88 89 90 92 95 98]\n",
      "Index of Highest Grade: 7\n",
      "Number of Students Above 90: 3\n",
      "Percentage Above 90: 30.0\n",
      "Percentage Below 75: 0.0\n",
      "High Performers: [92 95 98]\n",
      "Passing Grades: [85 90 88 92 95 80 98 89 83]\n"
     ]
    }
   ],
   "source": [
    "# Create a new array containing grades above 75\n",
    "passing_grades =grades[grades>75]\n",
    "\n",
    "# print results\n",
    "print(\"Grades:\",grades)\n",
    "print(\"Mean Grade:\",mean_grade)\n",
    "print(\"Median Grade:\",median_grade)\n",
    "print(\"Standard Deviation:\",std_deviation)\n",
    "print(\"Maximum Grade:\",max_grade)\n",
    "print(\"Minimum Grade:\",min_grade)\n",
    "print(\"Sorted Grade:\",sorted_grades)\n",
    "print(\"Index of Highest Grade:\",index_highest_grade)\n",
    "print(\"Number of Students Above 90:\",above_90_count)\n",
    "print(\"Percentage Above 90:\",percent_above_90)\n",
    "print(\"Percentage Below 75:\",percent_below_75)\n",
    "print(\"High Performers:\",high_performers)\n",
    "print(\"Passing Grades:\",passing_grades)"
   ]
  },
  {
   "cell_type": "code",
   "execution_count": null,
   "id": "529fbe99",
   "metadata": {},
   "outputs": [],
   "source": []
  }
 ],
 "metadata": {
  "kernelspec": {
   "display_name": "Python 3 (ipykernel)",
   "language": "python",
   "name": "python3"
  },
  "language_info": {
   "codemirror_mode": {
    "name": "ipython",
    "version": 3
   },
   "file_extension": ".py",
   "mimetype": "text/x-python",
   "name": "python",
   "nbconvert_exporter": "python",
   "pygments_lexer": "ipython3",
   "version": "3.9.7"
  }
 },
 "nbformat": 4,
 "nbformat_minor": 5
}
