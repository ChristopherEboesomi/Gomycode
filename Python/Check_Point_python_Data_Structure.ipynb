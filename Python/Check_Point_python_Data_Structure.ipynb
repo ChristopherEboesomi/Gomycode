{
 "cells": [
  {
   "cell_type": "markdown",
   "id": "9cb3634b",
   "metadata": {},
   "source": [
    "## Instructions\n",
    "\n",
    "### Statement:\n",
    "\n",
    "- Create a list to store the shopping items\n",
    "- Use a while loop to create a menu of options for the user to add, remove, or view items from the list\n",
    "- Use a for loop to iterate through the list of items and display them to the user\n",
    "- Use the range() function to limit the number of items that can be added to the list\n",
    "- Use the list, tuple, set, and dictionary data structures to store and manipulate the shopping items\n",
    "\n",
    "### Instructions:\n",
    "- Create a list named 'shopping_list' to store the items.\n",
    "- Use a while loop to create a menu of options for the user to add, remove, or view items from the list.\n",
    "- Use the input() function to prompt the user to make a selection from the menu.\n",
    "- Use an if-elif-else block to determine the user's selection and perform the corresponding action.\n",
    "- If the user selects 'add', use the input() function to prompt the user to enter an item to add to the list. Use the range() function to limit the number of items that can be added to the list.\n",
    "- If the user selects 'remove', use the input() function to prompt the user to enter an item to remove from the list.\n",
    "- If the user selects 'view', use a for loop to iterate through the list of items and display them to the user.\n",
    "- Use the list, tuple, set, and dictionary data structures to store and manipulate the shopping items.\n"
   ]
  },
  {
   "cell_type": "code",
   "execution_count": 1,
   "id": "90192536",
   "metadata": {},
   "outputs": [
    {
     "name": "stdout",
     "output_type": "stream",
     "text": [
      "\n",
      "Menu:\n",
      "1. Add item\n",
      "2. Remove item\n",
      "3. View items\n",
      "4. Quit\n",
      "\n",
      "\n",
      "Enter your choice (1-4): 4\n",
      "Quitting the program.\n"
     ]
    }
   ],
   "source": [
    "#### CREATE AN EMPTY LIST TO STORE SHOPPING ITEMS\n",
    "shopping_list = []\n",
    "\n",
    "# menu options\n",
    "menu= \"\"\"\n",
    "Menu:\n",
    "1. Add item\n",
    "2. Remove item\n",
    "3. View items\n",
    "4. Quit\n",
    "\n",
    "\"\"\"\n",
    "\n",
    "# while loop for the menu\n",
    "\n",
    "while True:\n",
    "    print(menu)\n",
    "    \n",
    "    \n",
    "    # Prompt the user to make a selection\n",
    "    choice=input(\"Enter your choice (1-4): \")\n",
    "    \n",
    "    # perform actions based on user's selection\n",
    "    if choice == '1':\n",
    "        # Add item\n",
    "        if len(shopping_list)<5: # limit the number of items to 5\n",
    "            item=input(\"Enter the item to add: \")\n",
    "            shopping_list.append(item)\n",
    "            print(f\"{item} added to the list.\")\n",
    "        else:\n",
    "            print(\"You have reached the maximum limit of items.\")\n",
    "            \n",
    "    elif choice=='2':\n",
    "        # Remove item\n",
    "        item = input(\"Enter the item to remove: \")\n",
    "        if item in shopping_list:\n",
    "            shopping_list.remove(item)\n",
    "            print(f\"{item} removed from ths list.\")\n",
    "        else:\n",
    "            print(f\"{item}not found in the list.\")\n",
    "    elif choice=='3':\n",
    "        # View items\n",
    "        print(\"shopping list: \")\n",
    "        for item in shopping_list:\n",
    "            print(item)\n",
    "    elif choice == '4':\n",
    "        # Quit the program\n",
    "        print(\"Quitting the program.\")\n",
    "        break\n",
    "        \n",
    "    else:\n",
    "        print(\"invalid choice. Please enter a number between 1 and 4.\")"
   ]
  },
  {
   "cell_type": "code",
   "execution_count": null,
   "id": "a3b15faf",
   "metadata": {},
   "outputs": [],
   "source": []
  }
 ],
 "metadata": {
  "kernelspec": {
   "display_name": "Python 3 (ipykernel)",
   "language": "python",
   "name": "python3"
  },
  "language_info": {
   "codemirror_mode": {
    "name": "ipython",
    "version": 3
   },
   "file_extension": ".py",
   "mimetype": "text/x-python",
   "name": "python",
   "nbconvert_exporter": "python",
   "pygments_lexer": "ipython3",
   "version": "3.9.7"
  }
 },
 "nbformat": 4,
 "nbformat_minor": 5
}
