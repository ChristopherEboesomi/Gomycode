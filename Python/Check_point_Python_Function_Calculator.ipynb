{
 "cells": [
  {
   "cell_type": "markdown",
   "id": "aa9132dd",
   "metadata": {},
   "source": [
    "## Checkpoint Objective \n",
    "In this exercise, you will expand on the basic calculator program by adding more advanced mathematical operations and error handling using object-oriented programming.\n",
    "\n",
    "## Instructions\n",
    "- Create a new file called \"calculator_2.0.py\"\n",
    "- Create a class called \"Calculator\" that contains the following:\n",
    "   - A dictionary attribute to store the available mathematical operations and their corresponding functions\n",
    "   - A method called \"init\" that initializes the dictionary with the basic mathematical operations (+, -, *, /) and corresponding functions.\n",
    "   - A method called \"add_operation\" that takes in two arguments: the operation symbol and the corresponding function. This method should add the new operation and function to the dictionary.\n",
    "   - A method called \"calculate\" that takes in three arguments: the first number, the operation symbol, and the second number. This method should use the dictionary to determine the appropriate function to perform the calculation. It should also include error handling to check if the operation symbol is valid and if the input values are numbers. If an error is encountered, the method should print an error message and raise an exception.\n",
    " - Create separate functions for the advanced mathematical operations (exponentiation, square root, logarithm) and use the \"add_operation\" method to add them to the calculator's dictionary.\n",
    " - In the main program, create an instance of the Calculator class, and use a while loop that allows the user to continue performing calculations until they choose to exit.\n",
    " - Use the input() function to get input from the user for the numbers and operation symbol.Use the math library for advanced mathematical operations\n",
    " - Use the isinstance() function to check if the input is a number."
   ]
  },
  {
   "cell_type": "code",
   "execution_count": 4,
   "id": "0a6c42ce",
   "metadata": {},
   "outputs": [
    {
     "name": "stdout",
     "output_type": "stream",
     "text": [
      "Enter the first number: 5\n",
      "Enter the operation symbol (+, -, *, /, **, sqrt, log): log\n",
      "Enter the second number: 10\n",
      "Result: 0.6989700043360187\n",
      "Do you want to perform another calculation? (yes/no): no\n"
     ]
    }
   ],
   "source": [
    "import math\n",
    "\n",
    "class Calculator:\n",
    "    def __init__(self):\n",
    "        self.operations = {'+': self.add, '-': self.subtract, '*': self.multiply, '/': self.divide}\n",
    "\n",
    "    def add_operation(self, symbol, func):\n",
    "        self.operations[symbol] = func\n",
    "\n",
    "    def calculate(self, num1, symbol, num2):\n",
    "        if symbol in self.operations:\n",
    "            if isinstance(num1, (int, float)) and isinstance(num2, (int, float)):\n",
    "                return self.operations[symbol](num1, num2)\n",
    "            else:\n",
    "                print(\"Error: Input values must be numbers.\")\n",
    "                raise ValueError(\"Invalid input values.\")\n",
    "        else:\n",
    "            print(\"Error: Invalid operation symbol.\")\n",
    "            raise ValueError(\"Invalid operation symbol.\")\n",
    "\n",
    "    def add(self, x, y):\n",
    "        return x + y\n",
    "\n",
    "    def subtract(self, x, y):\n",
    "        return x - y\n",
    "\n",
    "    def multiply(self, x, y):\n",
    "        return x * y\n",
    "\n",
    "    def divide(self, x, y):\n",
    "        if y == 0:\n",
    "            print(\"Error: Cannot divide by zero.\")\n",
    "            raise ValueError(\"Division by zero.\")\n",
    "        return x / y\n",
    "\n",
    "def exponentiation(x, y):\n",
    "    return x ** y\n",
    "\n",
    "def square_root(x, y):\n",
    "    return math.sqrt(x)\n",
    "\n",
    "def logarithm(x, y):\n",
    "    if x <= 0 or y <= 0:\n",
    "        print(\"Error: Invalid input for logarithm.\")\n",
    "        raise ValueError(\"Invalid input for logarithm.\")\n",
    "    return math.log(x, y)\n",
    "\n",
    "# Main program\n",
    "calculator = Calculator()\n",
    "\n",
    "# Add advanced operations to the calculator\n",
    "calculator.add_operation('**', exponentiation)\n",
    "calculator.add_operation('sqrt', square_root)\n",
    "calculator.add_operation('log', logarithm)\n",
    "\n",
    "while True:\n",
    "    try:\n",
    "        num1 = float(input(\"Enter the first number: \"))\n",
    "        symbol = input(\"Enter the operation symbol (+, -, *, /, **, sqrt, log): \")\n",
    "        num2 = float(input(\"Enter the second number: \"))\n",
    "\n",
    "        result = calculator.calculate(num1, symbol, num2)\n",
    "        print(f\"Result: {result}\")\n",
    "\n",
    "    except ValueError as e:\n",
    "        print(f\"Error: {e}\")\n",
    "\n",
    "    choice = input(\"Do you want to perform another calculation? (yes/no): \").lower()\n",
    "    if choice != 'yes':\n",
    "        break\n"
   ]
  },
  {
   "cell_type": "code",
   "execution_count": null,
   "id": "1106fc83",
   "metadata": {},
   "outputs": [],
   "source": []
  }
 ],
 "metadata": {
  "kernelspec": {
   "display_name": "Python 3 (ipykernel)",
   "language": "python",
   "name": "python3"
  },
  "language_info": {
   "codemirror_mode": {
    "name": "ipython",
    "version": 3
   },
   "file_extension": ".py",
   "mimetype": "text/x-python",
   "name": "python",
   "nbconvert_exporter": "python",
   "pygments_lexer": "ipython3",
   "version": "3.9.7"
  }
 },
 "nbformat": 4,
 "nbformat_minor": 5
}
